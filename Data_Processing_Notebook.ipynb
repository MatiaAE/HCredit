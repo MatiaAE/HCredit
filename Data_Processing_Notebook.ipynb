{
 "cells": [
  {
   "cell_type": "markdown",
   "metadata": {},
   "source": [
    "# Feature Engineering"
   ]
  },
  {
   "cell_type": "markdown",
   "metadata": {},
   "source": [
    "## Read Data and Imputation Functions"
   ]
  },
  {
   "cell_type": "code",
   "execution_count": 1,
   "metadata": {},
   "outputs": [
    {
     "name": "stderr",
     "output_type": "stream",
     "text": [
      "\n",
      "Attaching package: ‘dplyr’\n",
      "\n",
      "The following objects are masked from ‘package:stats’:\n",
      "\n",
      "    filter, lag\n",
      "\n",
      "The following objects are masked from ‘package:base’:\n",
      "\n",
      "    intersect, setdiff, setequal, union\n",
      "\n",
      "Loading required package: lattice\n",
      "Loading required package: ggplot2\n"
     ]
    },
    {
     "name": "stdout",
     "output_type": "stream",
     "text": [
      "[1] \"Weights loaded\"\n"
     ]
    }
   ],
   "source": [
    "# Data processing script\n",
    "# \n",
    "# assign working directory path\n",
    "wd.path <- \"/home/matia_alexander/data/\"\n",
    "setwd(wd.path)\n",
    "set.seed(1234)\n",
    "library(dplyr)\n",
    "library(foreach)\n",
    "library(caret)\n",
    "library(reshape2)\n",
    "test <- read.csv('application_test.csv') # applications test data\n",
    "train <- read.csv('application_train.csv') # applications train data\n",
    "\n",
    "# storing column names for later\n",
    "saveNames <- names(train)\n",
    "\n",
    "# columns with missing values\n",
    "missingCols <-  names(train)[apply(train, 2, function(x) sum(is.na(x))) > 0]\n",
    "\n",
    "#Sample mode function from Source: https://stackoverflow.com/questions/2547402/is-there-a-built-in-function-for-finding-the-mode\n",
    "Mode <- function(x, na.rm = FALSE) {\n",
    "  if (na.rm) {\n",
    "    x = x[!is.na(x)]\n",
    "  }\n",
    "  \n",
    "  ux <- unique(x)\n",
    "  return(ux[which.max(tabulate(match(x, ux)))])\n",
    "}\n",
    "\n",
    "imputationFunction <- function(imputeToData, imputeFromData, FUN, missingCols, suffix){\n",
    "  # imputeToData -  Imputation to be done on this data\n",
    "  # imputeFromData - Imputations calculation from this data\n",
    "  # FUN - imputation function\n",
    "  # missingCols - missing value column names\n",
    "  # suffix - suffix to add after column name\n",
    "  \n",
    "  imputeToData <- imputeToData[, names(imputeToData) %in% missingCols]\n",
    "  imputeFromData <- imputeFromData[, names(imputeFromData) %in% missingCols]\n",
    "  imputeVec <- apply(imputeFromData, 2, function(x) FUN(x, na.rm = T))\n",
    "  \n",
    "  for (i in 1:length(missingCols)) {\n",
    "    imputeToData[is.na(imputeToData[, names(imputeToData) %in% missingCols[i]])\n",
    "                 , names(imputeToData) %in% missingCols[i]] <- imputeVec[names(imputeVec) %in% missingCols[i]]\n",
    "  }\n",
    "  \n",
    "  names(imputeToData) <- paste0(names(imputeToData), suffix)\n",
    "  return(imputeToData)\n",
    "}\n",
    "\n",
    "#train imputation\n",
    "meanDatatr <- imputationFunction(imputeToData = train, imputeFromData = train, FUN = mean\n",
    "                                 , missingCols = missingCols, suffix = '.trmean')\n",
    "\n",
    "medianDatatr <- imputationFunction(imputeToData = train, imputeFromData = train, FUN = median\n",
    "                                   , missingCols = missingCols, suffix = '.trmedian')\n",
    "\n",
    "modeDatatr <- imputationFunction(imputeToData = train, imputeFromData = train, FUN = Mode\n",
    "                                 , missingCols = missingCols, suffix = '.trmode')\n",
    "\n",
    "meanDatatr.tst <- imputationFunction(imputeToData = train, imputeFromData = test, FUN = mean\n",
    "                                 , missingCols = missingCols, suffix = '.tstmean')\n",
    "\n",
    "medianDatatr.tst <- imputationFunction(imputeToData = train, imputeFromData = test, FUN = median\n",
    "                                   , missingCols = missingCols, suffix = '.tstmedian')\n",
    "\n",
    "modeDatatr.tst <- imputationFunction(imputeToData = train, imputeFromData = test, FUN = Mode\n",
    "                                 , missingCols = missingCols, suffix = '.tstmode')\n",
    "\n",
    "#test imputation\n",
    "\n",
    "meanDatatst <- imputationFunction(imputeToData = test, imputeFromData = train, FUN = mean\n",
    "                                  , missingCols = missingCols, suffix = '.trmean')\n",
    "\n",
    "medianDatatst <- imputationFunction(imputeToData = test, imputeFromData = train, FUN = median\n",
    "                                    , missingCols = missingCols, suffix = '.trmedian')\n",
    "\n",
    "modeDatatst <- imputationFunction(imputeToData = test, imputeFromData = train, FUN = Mode\n",
    "                                  , missingCols = missingCols, suffix = '.trmode')\n",
    "\n",
    "\n",
    "meanDatatst.tst <- imputationFunction(imputeToData = test, imputeFromData = test, FUN = mean\n",
    "                                  , missingCols = missingCols, suffix = '.tstmean')\n",
    "\n",
    "medianDatatst.tst <- imputationFunction(imputeToData = test, imputeFromData = test, FUN = median\n",
    "                                    , missingCols = missingCols, suffix = '.tstmedian')\n",
    "\n",
    "modeDatatst.tst <- imputationFunction(imputeToData = test, imputeFromData = test, FUN = Mode\n",
    "                                  , missingCols = missingCols, suffix = '.tstmode')\n",
    "\n",
    "\n",
    "weights <- read.csv('/home/matia_alexander/data/modified/Train_Weights_V2_ii.csv') %>% select(-X)\n",
    "print(\"Weights loaded\")\n",
    "\n",
    "#train <- cbind(train, meanDatatr, medianDatatr, modeDatatr,\n",
    "#\t       meanDatatr.tst, medianDatatr.tst, modeDatatr.tst) %>% \n",
    "#\t\tleft_join(weights, by = \"SK_ID_CURR\")\n",
    "\n",
    "train = train %>% \n",
    "\tleft_join(weights, by = \"SK_ID_CURR\")\n",
    "\n",
    "rm(meanDatatr, medianDatatr, modeDatatr, weights,\n",
    "\t       meanDatatr.tst, medianDatatr.tst, modeDatatr.tst)\n",
    "\n",
    "#test <- cbind(test, meanDatatst, medianDatatst, modeDatatst,\n",
    "#\t       meanDatatst.tst, medianDatatst.tst, modeDatatst.tst) \n",
    "\n",
    "rm(meanDatatst, medianDatatst, modeDatatst,\n",
    "    meanDatatst.tst, medianDatatst.tst, modeDatatst.tst)\n",
    "\n",
    "# add variable specific imputation\n",
    "# add cross validation - \n",
    "\n",
    "train$fold <- caret::createFolds(train$TARGET, 5, FALSE)\n",
    "\n",
    "\n",
    "#Check column composition of train and test:\n",
    "train_cols = train %>% colnames()\n",
    "test_cols = test %>% colnames()\n",
    "\n",
    "if(sum(c(\"TARGET\", \"fold\", \"Weights\") %in% train_cols) != 3){\n",
    "\tstop(\"train data missing one of: TARGET, fold, Weights\")\n",
    "}\n",
    "\n",
    "train_cols = train_cols[!(train_cols %in% c(\"TARGET\",\"fold\",\"Weights\"))]\n",
    "train_cols_not_test = train_cols[!(train_cols %in% test_cols)]\n",
    "test_cols_not_train = test_cols[!(test_cols %in% train_cols)]\n",
    "\n",
    "if(length(train_cols_not_test) > 0){\n",
    "\tstop(paste0(\"train contains columns not found in test: \", train_cols_not_test))\n",
    "}\n",
    "\n",
    "if(length(test_cols_not_train) > 0){\n",
    "\tstop(paste0(\"test contains columns not found in train: \", test_cols_not_train))\n",
    "}\n",
    "\n"
   ]
  },
  {
   "cell_type": "markdown",
   "metadata": {},
   "source": [
    "## Aggregation Functions"
   ]
  },
  {
   "cell_type": "code",
   "execution_count": 2,
   "metadata": {},
   "outputs": [],
   "source": [
    "###########################################\n",
    "#############Processing Functions##########\n",
    "###########################################\n",
    "\n",
    "count_categorical <- function(dt, field, suffix){\n",
    "  #For each SK_ID_CURR count occurrence of each categorical in a field\n",
    "  #returns a tabular frame with count of each occurrence running horizontally\n",
    "  cast_formula = as.formula(paste0(\"SK_ID_CURR\", \"~\", field))\n",
    "  dt = dt %>% \n",
    "    select(\"SK_ID_CURR\", field) %>% \n",
    "    group_by(SK_ID_CURR, !!as.name(field)) %>% \n",
    "    summarise(count = n()) %>% \n",
    "    mutate(!!field := gsub(!!as.name(field), pattern = \" \", replacement = \"\") ) %>% \n",
    "    mutate(!!field := paste0(!!as.name(field), suffix )) %>% \n",
    "    dcast(cast_formula, fill = 0, value.var = \"count\")\n",
    "  return(dt)\n",
    "  \n",
    "}\n",
    "\n",
    "count_categorical_list <- function(dt, field_list, suffix){\n",
    "  #Returns a list of frames resulting from count_categorical\n",
    "  frames = list()\n",
    "  \n",
    "  for(i in field_list){\n",
    "    print(paste0(\"Counting field: \", i))\n",
    "    sfx = paste0(\"_count_\", i, suffix)\n",
    "    frames[[i]] = count_categorical(dt, i, sfx)\n",
    "  }\n",
    "  \n",
    "  return(frames)\n",
    "  \n",
    "}\n",
    "\n",
    "basic_stats_agg <- function(dt, field, suffix){\n",
    "  dt = dt %>% \n",
    "    select(\"SK_ID_CURR\", field) %>% \n",
    "    group_by(SK_ID_CURR) %>% \n",
    "    summarise(\n",
    "      !!paste0(\"SUM_\",field, suffix) := sum(!!as.name(field), na.rm=TRUE),\n",
    "      !!paste0(\"MEAN_\",field, suffix) := mean(!!as.name(field), na.rm=TRUE),\n",
    "      !!paste0(\"MIN_\",field, suffix)  := min(!!as.name(field), na.rm=TRUE),\n",
    "      !!paste0(\"MAX_\",field, suffix)  := max(!!as.name(field), na.rm=TRUE),\n",
    "      !!paste0(\"SD_\",field, suffix)  := sd(!!as.name(field), na.rm=TRUE)\n",
    "      \n",
    "    )\n",
    "  \n",
    "  return(dt)  \n",
    "}\n",
    "\n",
    "basic_stats_agg_list <- function(dt, field_list, suffix){\n",
    "  frames = list()\n",
    "  \n",
    "  for(i in field_list){\n",
    "    print(paste0(\"Computing statistics on: \", i))\n",
    "    frames[[i]] = basic_stats_agg(dt, i, suffix)\n",
    "  }\n",
    "  \n",
    "  return(frames)\n",
    "}\n",
    "\n",
    "\n",
    "\n",
    "train_IDs = data.frame('SK_ID_CURR' = train$SK_ID_CURR)\n",
    "test_IDs = data.frame('SK_ID_CURR' = test$SK_ID_CURR)\n",
    "\n"
   ]
  },
  {
   "cell_type": "markdown",
   "metadata": {},
   "source": [
    "## Process Installment Payments"
   ]
  },
  {
   "cell_type": "code",
   "execution_count": 3,
   "metadata": {},
   "outputs": [
    {
     "name": "stdout",
     "output_type": "stream",
     "text": [
      "[1] \"installment payments:  Performing 2-way aggregations: monthly data -> SK_ID_PREV -> SK_ID_CURR\"\n",
      "[1] \"This may take some time...\"\n"
     ]
    },
    {
     "data": {
      "text/html": [
       "<table>\n",
       "<thead><tr><th></th><th scope=col>used</th><th scope=col>(Mb)</th><th scope=col>gc trigger</th><th scope=col>(Mb)</th><th scope=col>max used</th><th scope=col>(Mb)</th></tr></thead>\n",
       "<tbody>\n",
       "\t<tr><th scope=row>Ncells</th><td>  1691236</td><td>  90.4   </td><td>  5684620</td><td> 303.6   </td><td>  5684620</td><td> 303.6   </td></tr>\n",
       "\t<tr><th scope=row>Vcells</th><td>311472529</td><td>2376.4   </td><td>552882046</td><td>4218.2   </td><td>373924761</td><td>2852.9   </td></tr>\n",
       "</tbody>\n",
       "</table>\n"
      ],
      "text/latex": [
       "\\begin{tabular}{r|llllll}\n",
       "  & used & (Mb) & gc trigger & (Mb) & max used & (Mb)\\\\\n",
       "\\hline\n",
       "\tNcells &   1691236 &   90.4    &   5684620 &  303.6    &   5684620 &  303.6   \\\\\n",
       "\tVcells & 311472529 & 2376.4    & 552882046 & 4218.2    & 373924761 & 2852.9   \\\\\n",
       "\\end{tabular}\n"
      ],
      "text/markdown": [
       "\n",
       "| <!--/--> | used | (Mb) | gc trigger | (Mb) | max used | (Mb) | \n",
       "|---|---|\n",
       "| Ncells |   1691236 |   90.4    |   5684620 |  303.6    |   5684620 |  303.6    | \n",
       "| Vcells | 311472529 | 2376.4    | 552882046 | 4218.2    | 373924761 | 2852.9    | \n",
       "\n",
       "\n"
      ],
      "text/plain": [
       "       used      (Mb)   gc trigger (Mb)   max used  (Mb)  \n",
       "Ncells   1691236   90.4   5684620   303.6   5684620  303.6\n",
       "Vcells 311472529 2376.4 552882046  4218.2 373924761 2852.9"
      ]
     },
     "metadata": {},
     "output_type": "display_data"
    }
   ],
   "source": [
    "###########################################\n",
    "#############Process insallment_payments.csv############\n",
    "###########################################\n",
    "installments = read.csv('installments_payments.csv')\n",
    "installments_features = list()\n",
    "\n",
    "installments = installments %>% \n",
    "  arrange(SK_ID_CURR, SK_ID_PREV, NUM_INSTALMENT_VERSION, NUM_INSTALMENT_NUMBER) %>% \n",
    "  mutate(Payment_Diff_installments = AMT_INSTALMENT - AMT_PAYMENT) %>% \n",
    "  mutate(Day_Diff_installments = DAYS_INSTALMENT - DAYS_ENTRY_PAYMENT)\n",
    "  \n",
    "FZ = funs(mean, sd, median, Mode, min, max, sum, n_distinct, .args = list(na.rm=TRUE))\n",
    "print(\"installment payments:  Performing 2-way aggregations: monthly data -> SK_ID_PREV -> SK_ID_CURR\")\n",
    "print(\"This may take some time...\")\n",
    "\n",
    "installments_double_map_features = \n",
    "  installments %>% \n",
    "  group_by(SK_ID_CURR, SK_ID_PREV) %>% \n",
    "  summarise_all(FZ) %>% \n",
    "  ungroup() %>% \n",
    "  select(-SK_ID_PREV) %>% \n",
    "  group_by(SK_ID_CURR) %>% \n",
    "  summarise_all(FZ) %>% \n",
    "  rename_at(vars(-SK_ID_CURR), ~paste0(., \"_installments_payments\"))\n",
    "  \n",
    "\n",
    "installments_features[['Double_Agg']] = installments_double_map_features \n",
    "rm(installments_double_map_features); gc()"
   ]
  },
  {
   "cell_type": "markdown",
   "metadata": {},
   "source": [
    "### Double-Agg ratios"
   ]
  },
  {
   "cell_type": "code",
   "execution_count": 16,
   "metadata": {},
   "outputs": [],
   "source": [
    "col_list = installments_features[['Double_Agg']] %>% colnames() %>% grep(pattern = '(.*)_sum_mean(.*)', value = TRUE)\n",
    "\n",
    "for(i in col_list){\n",
    "    for(j in col_list){\n",
    "        if(i != j){\n",
    "            tmp = installments_features[['Double_Agg']] %>% select('SK_ID_CURR', i, j)\n",
    "            tmp[[paste0(i,'_',j)]] = tmp[[i]] / tmp[[j]]\n",
    "            tmp = tmp %>% select(-i, -j)\n",
    "            installments_features[[paste0(i,'_',j)]] = tmp\n",
    "        }\n",
    "    }\n",
    "}\n"
   ]
  },
  {
   "cell_type": "code",
   "execution_count": 3,
   "metadata": {},
   "outputs": [
    {
     "name": "stdout",
     "output_type": "stream",
     "text": [
      "[1] \"installment payments:  Performing 2-way aggregations: monthly data -> SK_ID_PREV -> SK_ID_CURR\"\n",
      "[1] \"This may take some time...\"\n"
     ]
    },
    {
     "data": {
      "text/html": [
       "<table>\n",
       "<thead><tr><th></th><th scope=col>used</th><th scope=col>(Mb)</th><th scope=col>gc trigger</th><th scope=col>(Mb)</th><th scope=col>max used</th><th scope=col>(Mb)</th></tr></thead>\n",
       "<tbody>\n",
       "\t<tr><th scope=row>Ncells</th><td>  1691079</td><td>  90.4   </td><td>  5684620</td><td> 303.6   </td><td>  5684620</td><td> 303.6   </td></tr>\n",
       "\t<tr><th scope=row>Vcells</th><td>311473621</td><td>2376.4   </td><td>552877859</td><td>4218.2   </td><td>373934969</td><td>2852.9   </td></tr>\n",
       "</tbody>\n",
       "</table>\n"
      ],
      "text/latex": [
       "\\begin{tabular}{r|llllll}\n",
       "  & used & (Mb) & gc trigger & (Mb) & max used & (Mb)\\\\\n",
       "\\hline\n",
       "\tNcells &   1691079 &   90.4    &   5684620 &  303.6    &   5684620 &  303.6   \\\\\n",
       "\tVcells & 311473621 & 2376.4    & 552877859 & 4218.2    & 373934969 & 2852.9   \\\\\n",
       "\\end{tabular}\n"
      ],
      "text/markdown": [
       "\n",
       "| <!--/--> | used | (Mb) | gc trigger | (Mb) | max used | (Mb) | \n",
       "|---|---|\n",
       "| Ncells |   1691079 |   90.4    |   5684620 |  303.6    |   5684620 |  303.6    | \n",
       "| Vcells | 311473621 | 2376.4    | 552877859 | 4218.2    | 373934969 | 2852.9    | \n",
       "\n",
       "\n"
      ],
      "text/plain": [
       "       used      (Mb)   gc trigger (Mb)   max used  (Mb)  \n",
       "Ncells   1691079   90.4   5684620   303.6   5684620  303.6\n",
       "Vcells 311473621 2376.4 552877859  4218.2 373934969 2852.9"
      ]
     },
     "metadata": {},
     "output_type": "display_data"
    },
    {
     "name": "stdout",
     "output_type": "stream",
     "text": [
      "[1] \"Joining in installment features\"\n"
     ]
    },
    {
     "data": {
      "text/html": [
       "<table>\n",
       "<thead><tr><th></th><th scope=col>used</th><th scope=col>(Mb)</th><th scope=col>gc trigger</th><th scope=col>(Mb)</th><th scope=col>max used</th><th scope=col>(Mb)</th></tr></thead>\n",
       "<tbody>\n",
       "\t<tr><th scope=row>Ncells</th><td>  1694208</td><td>  90.5   </td><td>  5684620</td><td> 303.6   </td><td>  5684620</td><td> 303.6   </td></tr>\n",
       "\t<tr><th scope=row>Vcells</th><td>319318452</td><td>2436.3   </td><td>552877859</td><td>4218.2   </td><td>480544004</td><td>3666.3   </td></tr>\n",
       "</tbody>\n",
       "</table>\n"
      ],
      "text/latex": [
       "\\begin{tabular}{r|llllll}\n",
       "  & used & (Mb) & gc trigger & (Mb) & max used & (Mb)\\\\\n",
       "\\hline\n",
       "\tNcells &   1694208 &   90.5    &   5684620 &  303.6    &   5684620 &  303.6   \\\\\n",
       "\tVcells & 319318452 & 2436.3    & 552877859 & 4218.2    & 480544004 & 3666.3   \\\\\n",
       "\\end{tabular}\n"
      ],
      "text/markdown": [
       "\n",
       "| <!--/--> | used | (Mb) | gc trigger | (Mb) | max used | (Mb) | \n",
       "|---|---|\n",
       "| Ncells |   1694208 |   90.5    |   5684620 |  303.6    |   5684620 |  303.6    | \n",
       "| Vcells | 319318452 | 2436.3    | 552877859 | 4218.2    | 480544004 | 3666.3    | \n",
       "\n",
       "\n"
      ],
      "text/plain": [
       "       used      (Mb)   gc trigger (Mb)   max used  (Mb)  \n",
       "Ncells   1694208   90.5   5684620   303.6   5684620  303.6\n",
       "Vcells 319318452 2436.3 552877859  4218.2 480544004 3666.3"
      ]
     },
     "metadata": {},
     "output_type": "display_data"
    },
    {
     "data": {
      "text/html": [
       "<table>\n",
       "<thead><tr><th></th><th scope=col>used</th><th scope=col>(Mb)</th><th scope=col>gc trigger</th><th scope=col>(Mb)</th><th scope=col>max used</th><th scope=col>(Mb)</th></tr></thead>\n",
       "<tbody>\n",
       "\t<tr><th scope=row>Ncells</th><td>  1694178</td><td>  90.5   </td><td>  5684620</td><td> 303.6   </td><td>  5684620</td><td> 303.6   </td></tr>\n",
       "\t<tr><th scope=row>Vcells</th><td>203672482</td><td>1553.9   </td><td>552877859</td><td>4218.2   </td><td>480544004</td><td>3666.3   </td></tr>\n",
       "</tbody>\n",
       "</table>\n"
      ],
      "text/latex": [
       "\\begin{tabular}{r|llllll}\n",
       "  & used & (Mb) & gc trigger & (Mb) & max used & (Mb)\\\\\n",
       "\\hline\n",
       "\tNcells &   1694178 &   90.5    &   5684620 &  303.6    &   5684620 &  303.6   \\\\\n",
       "\tVcells & 203672482 & 1553.9    & 552877859 & 4218.2    & 480544004 & 3666.3   \\\\\n",
       "\\end{tabular}\n"
      ],
      "text/markdown": [
       "\n",
       "| <!--/--> | used | (Mb) | gc trigger | (Mb) | max used | (Mb) | \n",
       "|---|---|\n",
       "| Ncells |   1694178 |   90.5    |   5684620 |  303.6    |   5684620 |  303.6    | \n",
       "| Vcells | 203672482 | 1553.9    | 552877859 | 4218.2    | 480544004 | 3666.3    | \n",
       "\n",
       "\n"
      ],
      "text/plain": [
       "       used      (Mb)   gc trigger (Mb)   max used  (Mb)  \n",
       "Ncells   1694178   90.5   5684620   303.6   5684620  303.6\n",
       "Vcells 203672482 1553.9 552877859  4218.2 480544004 3666.3"
      ]
     },
     "metadata": {},
     "output_type": "display_data"
    }
   ],
   "source": [
    "\n",
    "\n",
    "####################################\n",
    "###########Join in installment features##\n",
    "####################################\n",
    "print(\"Joining in installment features\")\n",
    "\n",
    "train_IDs_Joined = train_IDs\n",
    "test_IDs_Joined = test_IDs\n",
    "\n",
    "for(i in names(installments_features)){\n",
    "  train_IDs_Joined = \n",
    "    train_IDs_Joined %>% \n",
    "    left_join(installments_features[[i]], by = \"SK_ID_CURR\")\n",
    "  \n",
    "  test_IDs_Joined = \n",
    "    test_IDs_Joined %>% \n",
    "    left_join(installments_features[[i]], by = \"SK_ID_CURR\")\n",
    "}\n",
    "\n",
    "if(dim(train_IDs)[1] != dim(train_IDs_Joined)[1]){\n",
    "  stop(\"DUPLICATE RECORDS RESULTING FROM BAD JOIN IN Combine Features STEP (installments:train)\")\n",
    "}\n",
    "\n",
    "if(dim(test_IDs)[1] != dim(test_IDs_Joined)[1]){\n",
    "  stop(\"DUPLICATE RECORDS RESULTING FROM BAD JOIN IN Combine Features STEP (installments:test)\")\n",
    "}\n",
    "\n",
    "rm(installments_features); gc()\n",
    "rm(installments); gc()\n",
    "\n",
    "\n"
   ]
  },
  {
   "cell_type": "markdown",
   "metadata": {},
   "source": [
    "## Process application"
   ]
  },
  {
   "cell_type": "code",
   "execution_count": 4,
   "metadata": {},
   "outputs": [
    {
     "data": {
      "text/html": [
       "<table>\n",
       "<thead><tr><th></th><th scope=col>used</th><th scope=col>(Mb)</th><th scope=col>gc trigger</th><th scope=col>(Mb)</th><th scope=col>max used</th><th scope=col>(Mb)</th></tr></thead>\n",
       "<tbody>\n",
       "\t<tr><th scope=row>Ncells</th><td>  2052430</td><td> 109.7   </td><td>  5684620</td><td> 303.6   </td><td>  5684620</td><td> 303.6   </td></tr>\n",
       "\t<tr><th scope=row>Vcells</th><td>242254565</td><td>1848.3   </td><td>552877859</td><td>4218.2   </td><td>523881129</td><td>3996.9   </td></tr>\n",
       "</tbody>\n",
       "</table>\n"
      ],
      "text/latex": [
       "\\begin{tabular}{r|llllll}\n",
       "  & used & (Mb) & gc trigger & (Mb) & max used & (Mb)\\\\\n",
       "\\hline\n",
       "\tNcells &   2052430 &  109.7    &   5684620 &  303.6    &   5684620 &  303.6   \\\\\n",
       "\tVcells & 242254565 & 1848.3    & 552877859 & 4218.2    & 523881129 & 3996.9   \\\\\n",
       "\\end{tabular}\n"
      ],
      "text/markdown": [
       "\n",
       "| <!--/--> | used | (Mb) | gc trigger | (Mb) | max used | (Mb) | \n",
       "|---|---|\n",
       "| Ncells |   2052430 |  109.7    |   5684620 |  303.6    |   5684620 |  303.6    | \n",
       "| Vcells | 242254565 | 1848.3    | 552877859 | 4218.2    | 523881129 | 3996.9    | \n",
       "\n",
       "\n"
      ],
      "text/plain": [
       "       used      (Mb)   gc trigger (Mb)   max used  (Mb)  \n",
       "Ncells   2052430  109.7   5684620   303.6   5684620  303.6\n",
       "Vcells 242254565 1848.3 552877859  4218.2 523881129 3996.9"
      ]
     },
     "metadata": {},
     "output_type": "display_data"
    },
    {
     "name": "stdout",
     "output_type": "stream",
     "text": [
      "[1] \"CNT_CHILDREN\"\n",
      "[1] \"CNT_CHILDREN\"\n",
      "[1] \"CNT_CHILDREN\"\n",
      "[1] \"CNT_CHILDREN\"\n",
      "[1] \"CNT_CHILDREN\"\n",
      "[1] \"CNT_CHILDREN\"\n",
      "[1] \"CNT_CHILDREN\"\n",
      "[1] \"CNT_CHILDREN\"\n",
      "[1] \"CNT_CHILDREN\"\n",
      "[1] \"CNT_CHILDREN\"\n",
      "[1] \"CNT_CHILDREN\"\n",
      "[1] \"CNT_CHILDREN\"\n",
      "[1] \"CNT_CHILDREN\"\n",
      "[1] \"CNT_CHILDREN\"\n",
      "[1] \"CNT_CHILDREN\"\n",
      "[1] \"CNT_CHILDREN\"\n",
      "[1] \"CNT_CHILDREN\"\n",
      "[1] \"CNT_CHILDREN\"\n",
      "[1] \"CNT_CHILDREN\"\n",
      "[1] \"CNT_CHILDREN\"\n",
      "[1] \"CNT_CHILDREN\"\n",
      "[1] \"AMT_INCOME_TOTAL\"\n",
      "[1] \"AMT_INCOME_TOTAL\"\n",
      "[1] \"AMT_INCOME_TOTAL\"\n",
      "[1] \"AMT_INCOME_TOTAL\"\n",
      "[1] \"AMT_INCOME_TOTAL\"\n",
      "[1] \"AMT_INCOME_TOTAL\"\n",
      "[1] \"AMT_INCOME_TOTAL\"\n",
      "[1] \"AMT_INCOME_TOTAL\"\n",
      "[1] \"AMT_INCOME_TOTAL\"\n",
      "[1] \"AMT_INCOME_TOTAL\"\n",
      "[1] \"AMT_INCOME_TOTAL\"\n",
      "[1] \"AMT_INCOME_TOTAL\"\n",
      "[1] \"AMT_INCOME_TOTAL\"\n",
      "[1] \"AMT_INCOME_TOTAL\"\n",
      "[1] \"AMT_INCOME_TOTAL\"\n",
      "[1] \"AMT_INCOME_TOTAL\"\n",
      "[1] \"AMT_INCOME_TOTAL\"\n",
      "[1] \"AMT_INCOME_TOTAL\"\n",
      "[1] \"AMT_INCOME_TOTAL\"\n",
      "[1] \"AMT_INCOME_TOTAL\"\n",
      "[1] \"AMT_INCOME_TOTAL\"\n",
      "[1] \"AMT_CREDIT\"\n",
      "[1] \"AMT_CREDIT\"\n",
      "[1] \"AMT_CREDIT\"\n",
      "[1] \"AMT_CREDIT\"\n",
      "[1] \"AMT_CREDIT\"\n",
      "[1] \"AMT_CREDIT\"\n",
      "[1] \"AMT_CREDIT\"\n",
      "[1] \"AMT_CREDIT\"\n",
      "[1] \"AMT_CREDIT\"\n",
      "[1] \"AMT_CREDIT\"\n",
      "[1] \"AMT_CREDIT\"\n",
      "[1] \"AMT_CREDIT\"\n",
      "[1] \"AMT_CREDIT\"\n",
      "[1] \"AMT_CREDIT\"\n",
      "[1] \"AMT_CREDIT\"\n",
      "[1] \"AMT_CREDIT\"\n",
      "[1] \"AMT_CREDIT\"\n",
      "[1] \"AMT_CREDIT\"\n",
      "[1] \"AMT_CREDIT\"\n",
      "[1] \"AMT_CREDIT\"\n",
      "[1] \"AMT_CREDIT\"\n",
      "[1] \"AMT_ANNUITY\"\n",
      "[1] \"AMT_ANNUITY\"\n",
      "[1] \"AMT_ANNUITY\"\n",
      "[1] \"AMT_ANNUITY\"\n",
      "[1] \"AMT_ANNUITY\"\n",
      "[1] \"AMT_ANNUITY\"\n",
      "[1] \"AMT_ANNUITY\"\n",
      "[1] \"AMT_ANNUITY\"\n",
      "[1] \"AMT_ANNUITY\"\n",
      "[1] \"AMT_ANNUITY\"\n",
      "[1] \"AMT_ANNUITY\"\n",
      "[1] \"AMT_ANNUITY\"\n",
      "[1] \"AMT_ANNUITY\"\n",
      "[1] \"AMT_ANNUITY\"\n",
      "[1] \"AMT_ANNUITY\"\n",
      "[1] \"AMT_ANNUITY\"\n",
      "[1] \"AMT_ANNUITY\"\n",
      "[1] \"AMT_ANNUITY\"\n",
      "[1] \"AMT_ANNUITY\"\n",
      "[1] \"AMT_ANNUITY\"\n",
      "[1] \"AMT_ANNUITY\"\n",
      "[1] \"AMT_GOODS_PRICE\"\n",
      "[1] \"AMT_GOODS_PRICE\"\n",
      "[1] \"AMT_GOODS_PRICE\"\n",
      "[1] \"AMT_GOODS_PRICE\"\n",
      "[1] \"AMT_GOODS_PRICE\"\n",
      "[1] \"AMT_GOODS_PRICE\"\n",
      "[1] \"AMT_GOODS_PRICE\"\n",
      "[1] \"AMT_GOODS_PRICE\"\n",
      "[1] \"AMT_GOODS_PRICE\"\n",
      "[1] \"AMT_GOODS_PRICE\"\n",
      "[1] \"AMT_GOODS_PRICE\"\n",
      "[1] \"AMT_GOODS_PRICE\"\n",
      "[1] \"AMT_GOODS_PRICE\"\n",
      "[1] \"AMT_GOODS_PRICE\"\n",
      "[1] \"AMT_GOODS_PRICE\"\n",
      "[1] \"AMT_GOODS_PRICE\"\n",
      "[1] \"AMT_GOODS_PRICE\"\n",
      "[1] \"AMT_GOODS_PRICE\"\n",
      "[1] \"AMT_GOODS_PRICE\"\n",
      "[1] \"AMT_GOODS_PRICE\"\n",
      "[1] \"AMT_GOODS_PRICE\"\n",
      "[1] \"DAYS_BIRTH\"\n",
      "[1] \"DAYS_BIRTH\"\n",
      "[1] \"DAYS_BIRTH\"\n",
      "[1] \"DAYS_BIRTH\"\n",
      "[1] \"DAYS_BIRTH\"\n",
      "[1] \"DAYS_BIRTH\"\n",
      "[1] \"DAYS_BIRTH\"\n",
      "[1] \"DAYS_BIRTH\"\n",
      "[1] \"DAYS_BIRTH\"\n",
      "[1] \"DAYS_BIRTH\"\n",
      "[1] \"DAYS_BIRTH\"\n",
      "[1] \"DAYS_BIRTH\"\n",
      "[1] \"DAYS_BIRTH\"\n",
      "[1] \"DAYS_BIRTH\"\n",
      "[1] \"DAYS_BIRTH\"\n",
      "[1] \"DAYS_BIRTH\"\n",
      "[1] \"DAYS_BIRTH\"\n",
      "[1] \"DAYS_BIRTH\"\n",
      "[1] \"DAYS_BIRTH\"\n",
      "[1] \"DAYS_BIRTH\"\n",
      "[1] \"DAYS_BIRTH\"\n",
      "[1] \"DAYS_EMPLOYED\"\n",
      "[1] \"DAYS_EMPLOYED\"\n",
      "[1] \"DAYS_EMPLOYED\"\n",
      "[1] \"DAYS_EMPLOYED\"\n",
      "[1] \"DAYS_EMPLOYED\"\n",
      "[1] \"DAYS_EMPLOYED\"\n",
      "[1] \"DAYS_EMPLOYED\"\n",
      "[1] \"DAYS_EMPLOYED\"\n",
      "[1] \"DAYS_EMPLOYED\"\n",
      "[1] \"DAYS_EMPLOYED\"\n",
      "[1] \"DAYS_EMPLOYED\"\n",
      "[1] \"DAYS_EMPLOYED\"\n",
      "[1] \"DAYS_EMPLOYED\"\n",
      "[1] \"DAYS_EMPLOYED\"\n",
      "[1] \"DAYS_EMPLOYED\"\n",
      "[1] \"DAYS_EMPLOYED\"\n",
      "[1] \"DAYS_EMPLOYED\"\n",
      "[1] \"DAYS_EMPLOYED\"\n",
      "[1] \"DAYS_EMPLOYED\"\n",
      "[1] \"DAYS_EMPLOYED\"\n",
      "[1] \"DAYS_EMPLOYED\"\n",
      "[1] \"DAYS_REGISTRATION\"\n",
      "[1] \"DAYS_REGISTRATION\"\n",
      "[1] \"DAYS_REGISTRATION\"\n",
      "[1] \"DAYS_REGISTRATION\"\n",
      "[1] \"DAYS_REGISTRATION\"\n",
      "[1] \"DAYS_REGISTRATION\"\n",
      "[1] \"DAYS_REGISTRATION\"\n",
      "[1] \"DAYS_REGISTRATION\"\n",
      "[1] \"DAYS_REGISTRATION\"\n",
      "[1] \"DAYS_REGISTRATION\"\n",
      "[1] \"DAYS_REGISTRATION\"\n",
      "[1] \"DAYS_REGISTRATION\"\n",
      "[1] \"DAYS_REGISTRATION\"\n",
      "[1] \"DAYS_REGISTRATION\"\n",
      "[1] \"DAYS_REGISTRATION\"\n",
      "[1] \"DAYS_REGISTRATION\"\n",
      "[1] \"DAYS_REGISTRATION\"\n",
      "[1] \"DAYS_REGISTRATION\"\n",
      "[1] \"DAYS_REGISTRATION\"\n",
      "[1] \"DAYS_REGISTRATION\"\n",
      "[1] \"DAYS_REGISTRATION\"\n",
      "[1] \"DAYS_ID_PUBLISH\"\n",
      "[1] \"DAYS_ID_PUBLISH\"\n",
      "[1] \"DAYS_ID_PUBLISH\"\n",
      "[1] \"DAYS_ID_PUBLISH\"\n",
      "[1] \"DAYS_ID_PUBLISH\"\n",
      "[1] \"DAYS_ID_PUBLISH\"\n",
      "[1] \"DAYS_ID_PUBLISH\"\n",
      "[1] \"DAYS_ID_PUBLISH\"\n",
      "[1] \"DAYS_ID_PUBLISH\"\n",
      "[1] \"DAYS_ID_PUBLISH\"\n",
      "[1] \"DAYS_ID_PUBLISH\"\n",
      "[1] \"DAYS_ID_PUBLISH\"\n",
      "[1] \"DAYS_ID_PUBLISH\"\n",
      "[1] \"DAYS_ID_PUBLISH\"\n",
      "[1] \"DAYS_ID_PUBLISH\"\n",
      "[1] \"DAYS_ID_PUBLISH\"\n",
      "[1] \"DAYS_ID_PUBLISH\"\n",
      "[1] \"DAYS_ID_PUBLISH\"\n",
      "[1] \"DAYS_ID_PUBLISH\"\n",
      "[1] \"DAYS_ID_PUBLISH\"\n",
      "[1] \"DAYS_ID_PUBLISH\"\n",
      "[1] \"OWN_CAR_AGE\"\n",
      "[1] \"OWN_CAR_AGE\"\n",
      "[1] \"OWN_CAR_AGE\"\n",
      "[1] \"OWN_CAR_AGE\"\n",
      "[1] \"OWN_CAR_AGE\"\n",
      "[1] \"OWN_CAR_AGE\"\n",
      "[1] \"OWN_CAR_AGE\"\n",
      "[1] \"OWN_CAR_AGE\"\n",
      "[1] \"OWN_CAR_AGE\"\n",
      "[1] \"OWN_CAR_AGE\"\n",
      "[1] \"OWN_CAR_AGE\"\n",
      "[1] \"OWN_CAR_AGE\"\n",
      "[1] \"OWN_CAR_AGE\"\n",
      "[1] \"OWN_CAR_AGE\"\n",
      "[1] \"OWN_CAR_AGE\"\n",
      "[1] \"OWN_CAR_AGE\"\n",
      "[1] \"OWN_CAR_AGE\"\n",
      "[1] \"OWN_CAR_AGE\"\n",
      "[1] \"OWN_CAR_AGE\"\n",
      "[1] \"OWN_CAR_AGE\"\n",
      "[1] \"OWN_CAR_AGE\"\n",
      "[1] \"CNT_FAM_MEMBERS\"\n",
      "[1] \"CNT_FAM_MEMBERS\"\n",
      "[1] \"CNT_FAM_MEMBERS\"\n",
      "[1] \"CNT_FAM_MEMBERS\"\n",
      "[1] \"CNT_FAM_MEMBERS\"\n",
      "[1] \"CNT_FAM_MEMBERS\"\n",
      "[1] \"CNT_FAM_MEMBERS\"\n",
      "[1] \"CNT_FAM_MEMBERS\"\n",
      "[1] \"CNT_FAM_MEMBERS\"\n",
      "[1] \"CNT_FAM_MEMBERS\"\n",
      "[1] \"CNT_FAM_MEMBERS\"\n",
      "[1] \"CNT_FAM_MEMBERS\"\n",
      "[1] \"CNT_FAM_MEMBERS\"\n",
      "[1] \"CNT_FAM_MEMBERS\"\n",
      "[1] \"CNT_FAM_MEMBERS\"\n",
      "[1] \"CNT_FAM_MEMBERS\"\n",
      "[1] \"CNT_FAM_MEMBERS\"\n",
      "[1] \"CNT_FAM_MEMBERS\"\n",
      "[1] \"CNT_FAM_MEMBERS\"\n",
      "[1] \"CNT_FAM_MEMBERS\"\n",
      "[1] \"CNT_FAM_MEMBERS\"\n",
      "[1] \"EXT_SOURCE_1\"\n",
      "[1] \"EXT_SOURCE_1\"\n",
      "[1] \"EXT_SOURCE_1\"\n",
      "[1] \"EXT_SOURCE_1\"\n",
      "[1] \"EXT_SOURCE_1\"\n",
      "[1] \"EXT_SOURCE_1\"\n",
      "[1] \"EXT_SOURCE_1\"\n",
      "[1] \"EXT_SOURCE_1\"\n",
      "[1] \"EXT_SOURCE_1\"\n",
      "[1] \"EXT_SOURCE_1\"\n",
      "[1] \"EXT_SOURCE_1\"\n",
      "[1] \"EXT_SOURCE_1\"\n",
      "[1] \"EXT_SOURCE_1\"\n",
      "[1] \"EXT_SOURCE_1\"\n",
      "[1] \"EXT_SOURCE_1\"\n",
      "[1] \"EXT_SOURCE_1\"\n",
      "[1] \"EXT_SOURCE_1\"\n",
      "[1] \"EXT_SOURCE_1\"\n",
      "[1] \"EXT_SOURCE_1\"\n",
      "[1] \"EXT_SOURCE_1\"\n",
      "[1] \"EXT_SOURCE_1\"\n",
      "[1] \"EXT_SOURCE_2\"\n",
      "[1] \"EXT_SOURCE_2\"\n",
      "[1] \"EXT_SOURCE_2\"\n",
      "[1] \"EXT_SOURCE_2\"\n",
      "[1] \"EXT_SOURCE_2\"\n",
      "[1] \"EXT_SOURCE_2\"\n",
      "[1] \"EXT_SOURCE_2\"\n",
      "[1] \"EXT_SOURCE_2\"\n",
      "[1] \"EXT_SOURCE_2\"\n",
      "[1] \"EXT_SOURCE_2\"\n",
      "[1] \"EXT_SOURCE_2\"\n",
      "[1] \"EXT_SOURCE_2\"\n",
      "[1] \"EXT_SOURCE_2\"\n",
      "[1] \"EXT_SOURCE_2\"\n",
      "[1] \"EXT_SOURCE_2\"\n",
      "[1] \"EXT_SOURCE_2\"\n",
      "[1] \"EXT_SOURCE_2\"\n",
      "[1] \"EXT_SOURCE_2\"\n",
      "[1] \"EXT_SOURCE_2\"\n",
      "[1] \"EXT_SOURCE_2\"\n",
      "[1] \"EXT_SOURCE_2\"\n",
      "[1] \"EXT_SOURCE_3\"\n",
      "[1] \"EXT_SOURCE_3\"\n",
      "[1] \"EXT_SOURCE_3\"\n",
      "[1] \"EXT_SOURCE_3\"\n",
      "[1] \"EXT_SOURCE_3\"\n",
      "[1] \"EXT_SOURCE_3\"\n",
      "[1] \"EXT_SOURCE_3\"\n",
      "[1] \"EXT_SOURCE_3\"\n",
      "[1] \"EXT_SOURCE_3\"\n",
      "[1] \"EXT_SOURCE_3\"\n",
      "[1] \"EXT_SOURCE_3\"\n",
      "[1] \"EXT_SOURCE_3\"\n",
      "[1] \"EXT_SOURCE_3\"\n",
      "[1] \"EXT_SOURCE_3\"\n",
      "[1] \"EXT_SOURCE_3\"\n",
      "[1] \"EXT_SOURCE_3\"\n",
      "[1] \"EXT_SOURCE_3\"\n",
      "[1] \"EXT_SOURCE_3\"\n",
      "[1] \"EXT_SOURCE_3\"\n",
      "[1] \"EXT_SOURCE_3\"\n",
      "[1] \"EXT_SOURCE_3\"\n",
      "[1] \"APARTMENTS_AVG\"\n",
      "[1] \"APARTMENTS_AVG\"\n",
      "[1] \"APARTMENTS_AVG\"\n",
      "[1] \"APARTMENTS_AVG\"\n",
      "[1] \"APARTMENTS_AVG\"\n",
      "[1] \"APARTMENTS_AVG\"\n",
      "[1] \"APARTMENTS_AVG\"\n",
      "[1] \"APARTMENTS_AVG\"\n",
      "[1] \"APARTMENTS_AVG\"\n",
      "[1] \"APARTMENTS_AVG\"\n",
      "[1] \"APARTMENTS_AVG\"\n",
      "[1] \"APARTMENTS_AVG\"\n",
      "[1] \"APARTMENTS_AVG\"\n",
      "[1] \"APARTMENTS_AVG\"\n",
      "[1] \"APARTMENTS_AVG\"\n",
      "[1] \"APARTMENTS_AVG\"\n",
      "[1] \"APARTMENTS_AVG\"\n",
      "[1] \"APARTMENTS_AVG\"\n",
      "[1] \"APARTMENTS_AVG\"\n",
      "[1] \"APARTMENTS_AVG\"\n",
      "[1] \"APARTMENTS_AVG\"\n",
      "[1] \"OBS_30_CNT_SOCIAL_CIRCLE\"\n",
      "[1] \"OBS_30_CNT_SOCIAL_CIRCLE\"\n",
      "[1] \"OBS_30_CNT_SOCIAL_CIRCLE\"\n",
      "[1] \"OBS_30_CNT_SOCIAL_CIRCLE\"\n",
      "[1] \"OBS_30_CNT_SOCIAL_CIRCLE\"\n",
      "[1] \"OBS_30_CNT_SOCIAL_CIRCLE\"\n",
      "[1] \"OBS_30_CNT_SOCIAL_CIRCLE\"\n",
      "[1] \"OBS_30_CNT_SOCIAL_CIRCLE\"\n",
      "[1] \"OBS_30_CNT_SOCIAL_CIRCLE\"\n",
      "[1] \"OBS_30_CNT_SOCIAL_CIRCLE\"\n",
      "[1] \"OBS_30_CNT_SOCIAL_CIRCLE\"\n",
      "[1] \"OBS_30_CNT_SOCIAL_CIRCLE\"\n",
      "[1] \"OBS_30_CNT_SOCIAL_CIRCLE\"\n",
      "[1] \"OBS_30_CNT_SOCIAL_CIRCLE\"\n",
      "[1] \"OBS_30_CNT_SOCIAL_CIRCLE\"\n",
      "[1] \"OBS_30_CNT_SOCIAL_CIRCLE\"\n",
      "[1] \"OBS_30_CNT_SOCIAL_CIRCLE\"\n",
      "[1] \"OBS_30_CNT_SOCIAL_CIRCLE\"\n",
      "[1] \"OBS_30_CNT_SOCIAL_CIRCLE\"\n",
      "[1] \"OBS_30_CNT_SOCIAL_CIRCLE\"\n",
      "[1] \"OBS_30_CNT_SOCIAL_CIRCLE\"\n",
      "[1] \"DEF_30_CNT_SOCIAL_CIRCLE\"\n",
      "[1] \"DEF_30_CNT_SOCIAL_CIRCLE\"\n",
      "[1] \"DEF_30_CNT_SOCIAL_CIRCLE\"\n",
      "[1] \"DEF_30_CNT_SOCIAL_CIRCLE\"\n",
      "[1] \"DEF_30_CNT_SOCIAL_CIRCLE\"\n",
      "[1] \"DEF_30_CNT_SOCIAL_CIRCLE\"\n",
      "[1] \"DEF_30_CNT_SOCIAL_CIRCLE\"\n",
      "[1] \"DEF_30_CNT_SOCIAL_CIRCLE\"\n",
      "[1] \"DEF_30_CNT_SOCIAL_CIRCLE\"\n",
      "[1] \"DEF_30_CNT_SOCIAL_CIRCLE\"\n",
      "[1] \"DEF_30_CNT_SOCIAL_CIRCLE\"\n",
      "[1] \"DEF_30_CNT_SOCIAL_CIRCLE\"\n",
      "[1] \"DEF_30_CNT_SOCIAL_CIRCLE\"\n",
      "[1] \"DEF_30_CNT_SOCIAL_CIRCLE\"\n",
      "[1] \"DEF_30_CNT_SOCIAL_CIRCLE\"\n",
      "[1] \"DEF_30_CNT_SOCIAL_CIRCLE\"\n",
      "[1] \"DEF_30_CNT_SOCIAL_CIRCLE\"\n",
      "[1] \"DEF_30_CNT_SOCIAL_CIRCLE\"\n",
      "[1] \"DEF_30_CNT_SOCIAL_CIRCLE\"\n",
      "[1] \"DEF_30_CNT_SOCIAL_CIRCLE\"\n",
      "[1] \"DEF_30_CNT_SOCIAL_CIRCLE\"\n",
      "[1] \"OBS_60_CNT_SOCIAL_CIRCLE\"\n",
      "[1] \"OBS_60_CNT_SOCIAL_CIRCLE\"\n",
      "[1] \"OBS_60_CNT_SOCIAL_CIRCLE\"\n",
      "[1] \"OBS_60_CNT_SOCIAL_CIRCLE\"\n",
      "[1] \"OBS_60_CNT_SOCIAL_CIRCLE\"\n",
      "[1] \"OBS_60_CNT_SOCIAL_CIRCLE\"\n",
      "[1] \"OBS_60_CNT_SOCIAL_CIRCLE\"\n",
      "[1] \"OBS_60_CNT_SOCIAL_CIRCLE\"\n",
      "[1] \"OBS_60_CNT_SOCIAL_CIRCLE\"\n",
      "[1] \"OBS_60_CNT_SOCIAL_CIRCLE\"\n",
      "[1] \"OBS_60_CNT_SOCIAL_CIRCLE\"\n",
      "[1] \"OBS_60_CNT_SOCIAL_CIRCLE\"\n",
      "[1] \"OBS_60_CNT_SOCIAL_CIRCLE\"\n",
      "[1] \"OBS_60_CNT_SOCIAL_CIRCLE\"\n",
      "[1] \"OBS_60_CNT_SOCIAL_CIRCLE\"\n",
      "[1] \"OBS_60_CNT_SOCIAL_CIRCLE\"\n",
      "[1] \"OBS_60_CNT_SOCIAL_CIRCLE\"\n",
      "[1] \"OBS_60_CNT_SOCIAL_CIRCLE\"\n",
      "[1] \"OBS_60_CNT_SOCIAL_CIRCLE\"\n",
      "[1] \"OBS_60_CNT_SOCIAL_CIRCLE\"\n",
      "[1] \"OBS_60_CNT_SOCIAL_CIRCLE\"\n",
      "[1] \"DAYS_LAST_PHONE_CHANGE\"\n",
      "[1] \"DAYS_LAST_PHONE_CHANGE\"\n",
      "[1] \"DAYS_LAST_PHONE_CHANGE\"\n",
      "[1] \"DAYS_LAST_PHONE_CHANGE\"\n",
      "[1] \"DAYS_LAST_PHONE_CHANGE\"\n",
      "[1] \"DAYS_LAST_PHONE_CHANGE\"\n",
      "[1] \"DAYS_LAST_PHONE_CHANGE\"\n",
      "[1] \"DAYS_LAST_PHONE_CHANGE\"\n",
      "[1] \"DAYS_LAST_PHONE_CHANGE\"\n",
      "[1] \"DAYS_LAST_PHONE_CHANGE\"\n",
      "[1] \"DAYS_LAST_PHONE_CHANGE\"\n",
      "[1] \"DAYS_LAST_PHONE_CHANGE\"\n",
      "[1] \"DAYS_LAST_PHONE_CHANGE\"\n",
      "[1] \"DAYS_LAST_PHONE_CHANGE\"\n",
      "[1] \"DAYS_LAST_PHONE_CHANGE\"\n",
      "[1] \"DAYS_LAST_PHONE_CHANGE\"\n",
      "[1] \"DAYS_LAST_PHONE_CHANGE\"\n",
      "[1] \"DAYS_LAST_PHONE_CHANGE\"\n",
      "[1] \"DAYS_LAST_PHONE_CHANGE\"\n",
      "[1] \"DAYS_LAST_PHONE_CHANGE\"\n",
      "[1] \"DAYS_LAST_PHONE_CHANGE\"\n",
      "[1] \"AMT_REQ_CREDIT_BUREAU_MON\"\n",
      "[1] \"AMT_REQ_CREDIT_BUREAU_MON\"\n",
      "[1] \"AMT_REQ_CREDIT_BUREAU_MON\"\n",
      "[1] \"AMT_REQ_CREDIT_BUREAU_MON\"\n",
      "[1] \"AMT_REQ_CREDIT_BUREAU_MON\"\n",
      "[1] \"AMT_REQ_CREDIT_BUREAU_MON\"\n",
      "[1] \"AMT_REQ_CREDIT_BUREAU_MON\"\n",
      "[1] \"AMT_REQ_CREDIT_BUREAU_MON\"\n",
      "[1] \"AMT_REQ_CREDIT_BUREAU_MON\"\n",
      "[1] \"AMT_REQ_CREDIT_BUREAU_MON\"\n",
      "[1] \"AMT_REQ_CREDIT_BUREAU_MON\"\n",
      "[1] \"AMT_REQ_CREDIT_BUREAU_MON\"\n",
      "[1] \"AMT_REQ_CREDIT_BUREAU_MON\"\n",
      "[1] \"AMT_REQ_CREDIT_BUREAU_MON\"\n",
      "[1] \"AMT_REQ_CREDIT_BUREAU_MON\"\n",
      "[1] \"AMT_REQ_CREDIT_BUREAU_MON\"\n",
      "[1] \"AMT_REQ_CREDIT_BUREAU_MON\"\n",
      "[1] \"AMT_REQ_CREDIT_BUREAU_MON\"\n",
      "[1] \"AMT_REQ_CREDIT_BUREAU_MON\"\n",
      "[1] \"AMT_REQ_CREDIT_BUREAU_MON\"\n",
      "[1] \"AMT_REQ_CREDIT_BUREAU_MON\"\n",
      "[1] \"AMT_REQ_CREDIT_BUREAU_QRT\"\n",
      "[1] \"AMT_REQ_CREDIT_BUREAU_QRT\"\n",
      "[1] \"AMT_REQ_CREDIT_BUREAU_QRT\"\n",
      "[1] \"AMT_REQ_CREDIT_BUREAU_QRT\"\n",
      "[1] \"AMT_REQ_CREDIT_BUREAU_QRT\"\n",
      "[1] \"AMT_REQ_CREDIT_BUREAU_QRT\"\n",
      "[1] \"AMT_REQ_CREDIT_BUREAU_QRT\"\n",
      "[1] \"AMT_REQ_CREDIT_BUREAU_QRT\"\n",
      "[1] \"AMT_REQ_CREDIT_BUREAU_QRT\"\n",
      "[1] \"AMT_REQ_CREDIT_BUREAU_QRT\"\n",
      "[1] \"AMT_REQ_CREDIT_BUREAU_QRT\"\n",
      "[1] \"AMT_REQ_CREDIT_BUREAU_QRT\"\n",
      "[1] \"AMT_REQ_CREDIT_BUREAU_QRT\"\n",
      "[1] \"AMT_REQ_CREDIT_BUREAU_QRT\"\n",
      "[1] \"AMT_REQ_CREDIT_BUREAU_QRT\"\n",
      "[1] \"AMT_REQ_CREDIT_BUREAU_QRT\"\n",
      "[1] \"AMT_REQ_CREDIT_BUREAU_QRT\"\n",
      "[1] \"AMT_REQ_CREDIT_BUREAU_QRT\"\n",
      "[1] \"AMT_REQ_CREDIT_BUREAU_QRT\"\n",
      "[1] \"AMT_REQ_CREDIT_BUREAU_QRT\"\n",
      "[1] \"AMT_REQ_CREDIT_BUREAU_QRT\"\n",
      "[1] \"AMT_REQ_CREDIT_BUREAU_YEAR\"\n",
      "[1] \"AMT_REQ_CREDIT_BUREAU_YEAR\"\n",
      "[1] \"AMT_REQ_CREDIT_BUREAU_YEAR\"\n",
      "[1] \"AMT_REQ_CREDIT_BUREAU_YEAR\"\n",
      "[1] \"AMT_REQ_CREDIT_BUREAU_YEAR\"\n",
      "[1] \"AMT_REQ_CREDIT_BUREAU_YEAR\"\n",
      "[1] \"AMT_REQ_CREDIT_BUREAU_YEAR\"\n",
      "[1] \"AMT_REQ_CREDIT_BUREAU_YEAR\"\n",
      "[1] \"AMT_REQ_CREDIT_BUREAU_YEAR\"\n",
      "[1] \"AMT_REQ_CREDIT_BUREAU_YEAR\"\n",
      "[1] \"AMT_REQ_CREDIT_BUREAU_YEAR\"\n",
      "[1] \"AMT_REQ_CREDIT_BUREAU_YEAR\"\n",
      "[1] \"AMT_REQ_CREDIT_BUREAU_YEAR\"\n",
      "[1] \"AMT_REQ_CREDIT_BUREAU_YEAR\"\n",
      "[1] \"AMT_REQ_CREDIT_BUREAU_YEAR\"\n",
      "[1] \"AMT_REQ_CREDIT_BUREAU_YEAR\"\n",
      "[1] \"AMT_REQ_CREDIT_BUREAU_YEAR\"\n",
      "[1] \"AMT_REQ_CREDIT_BUREAU_YEAR\"\n",
      "[1] \"AMT_REQ_CREDIT_BUREAU_YEAR\"\n",
      "[1] \"AMT_REQ_CREDIT_BUREAU_YEAR\"\n",
      "[1] \"AMT_REQ_CREDIT_BUREAU_YEAR\"\n"
     ]
    },
    {
     "data": {
      "text/html": [
       "<table>\n",
       "<thead><tr><th></th><th scope=col>used</th><th scope=col>(Mb)</th><th scope=col>gc trigger</th><th scope=col>(Mb)</th><th scope=col>max used</th><th scope=col>(Mb)</th></tr></thead>\n",
       "<tbody>\n",
       "\t<tr><th scope=row>Ncells</th><td>  2057867</td><td> 110.0   </td><td>  5684620</td><td> 303.6   </td><td>  5684620</td><td> 303.6   </td></tr>\n",
       "\t<tr><th scope=row>Vcells</th><td>407391434</td><td>3108.2   </td><td>663533430</td><td>5062.4   </td><td>523881129</td><td>3996.9   </td></tr>\n",
       "</tbody>\n",
       "</table>\n"
      ],
      "text/latex": [
       "\\begin{tabular}{r|llllll}\n",
       "  & used & (Mb) & gc trigger & (Mb) & max used & (Mb)\\\\\n",
       "\\hline\n",
       "\tNcells &   2057867 &  110.0    &   5684620 &  303.6    &   5684620 &  303.6   \\\\\n",
       "\tVcells & 407391434 & 3108.2    & 663533430 & 5062.4    & 523881129 & 3996.9   \\\\\n",
       "\\end{tabular}\n"
      ],
      "text/markdown": [
       "\n",
       "| <!--/--> | used | (Mb) | gc trigger | (Mb) | max used | (Mb) | \n",
       "|---|---|\n",
       "| Ncells |   2057867 |  110.0    |   5684620 |  303.6    |   5684620 |  303.6    | \n",
       "| Vcells | 407391434 | 3108.2    | 663533430 | 5062.4    | 523881129 | 3996.9    | \n",
       "\n",
       "\n"
      ],
      "text/plain": [
       "       used      (Mb)   gc trigger (Mb)   max used  (Mb)  \n",
       "Ncells   2057867  110.0   5684620   303.6   5684620  303.6\n",
       "Vcells 407391434 3108.2 663533430  5062.4 523881129 3996.9"
      ]
     },
     "metadata": {},
     "output_type": "display_data"
    },
    {
     "data": {
      "text/html": [
       "<table>\n",
       "<thead><tr><th></th><th scope=col>used</th><th scope=col>(Mb)</th><th scope=col>gc trigger</th><th scope=col>(Mb)</th><th scope=col>max used</th><th scope=col>(Mb)</th></tr></thead>\n",
       "<tbody>\n",
       "\t<tr><th scope=row>Ncells</th><td>  2057926</td><td> 110.0   </td><td>  5684620</td><td> 303.6   </td><td>  5684620</td><td> 303.6   </td></tr>\n",
       "\t<tr><th scope=row>Vcells</th><td>407925860</td><td>3112.3   </td><td>663533430</td><td>5062.4   </td><td>523881129</td><td>3996.9   </td></tr>\n",
       "</tbody>\n",
       "</table>\n"
      ],
      "text/latex": [
       "\\begin{tabular}{r|llllll}\n",
       "  & used & (Mb) & gc trigger & (Mb) & max used & (Mb)\\\\\n",
       "\\hline\n",
       "\tNcells &   2057926 &  110.0    &   5684620 &  303.6    &   5684620 &  303.6   \\\\\n",
       "\tVcells & 407925860 & 3112.3    & 663533430 & 5062.4    & 523881129 & 3996.9   \\\\\n",
       "\\end{tabular}\n"
      ],
      "text/markdown": [
       "\n",
       "| <!--/--> | used | (Mb) | gc trigger | (Mb) | max used | (Mb) | \n",
       "|---|---|\n",
       "| Ncells |   2057926 |  110.0    |   5684620 |  303.6    |   5684620 |  303.6    | \n",
       "| Vcells | 407925860 | 3112.3    | 663533430 | 5062.4    | 523881129 | 3996.9    | \n",
       "\n",
       "\n"
      ],
      "text/plain": [
       "       used      (Mb)   gc trigger (Mb)   max used  (Mb)  \n",
       "Ncells   2057926  110.0   5684620   303.6   5684620  303.6\n",
       "Vcells 407925860 3112.3 663533430  5062.4 523881129 3996.9"
      ]
     },
     "metadata": {},
     "output_type": "display_data"
    },
    {
     "data": {
      "text/html": [
       "<table>\n",
       "<thead><tr><th></th><th scope=col>used</th><th scope=col>(Mb)</th><th scope=col>gc trigger</th><th scope=col>(Mb)</th><th scope=col>max used</th><th scope=col>(Mb)</th></tr></thead>\n",
       "<tbody>\n",
       "\t<tr><th scope=row>Ncells</th><td>  2058013</td><td> 110.0   </td><td>  5684620</td><td> 303.6   </td><td>  5684620</td><td> 303.6   </td></tr>\n",
       "\t<tr><th scope=row>Vcells</th><td>409885365</td><td>3127.2   </td><td>663533430</td><td>5062.4   </td><td>523881129</td><td>3996.9   </td></tr>\n",
       "</tbody>\n",
       "</table>\n"
      ],
      "text/latex": [
       "\\begin{tabular}{r|llllll}\n",
       "  & used & (Mb) & gc trigger & (Mb) & max used & (Mb)\\\\\n",
       "\\hline\n",
       "\tNcells &   2058013 &  110.0    &   5684620 &  303.6    &   5684620 &  303.6   \\\\\n",
       "\tVcells & 409885365 & 3127.2    & 663533430 & 5062.4    & 523881129 & 3996.9   \\\\\n",
       "\\end{tabular}\n"
      ],
      "text/markdown": [
       "\n",
       "| <!--/--> | used | (Mb) | gc trigger | (Mb) | max used | (Mb) | \n",
       "|---|---|\n",
       "| Ncells |   2058013 |  110.0    |   5684620 |  303.6    |   5684620 |  303.6    | \n",
       "| Vcells | 409885365 | 3127.2    | 663533430 | 5062.4    | 523881129 | 3996.9    | \n",
       "\n",
       "\n"
      ],
      "text/plain": [
       "       used      (Mb)   gc trigger (Mb)   max used  (Mb)  \n",
       "Ncells   2058013  110.0   5684620   303.6   5684620  303.6\n",
       "Vcells 409885365 3127.2 663533430  5062.4 523881129 3996.9"
      ]
     },
     "metadata": {},
     "output_type": "display_data"
    },
    {
     "name": "stdout",
     "output_type": "stream",
     "text": [
      "[1] \"Joining in application features\"\n"
     ]
    },
    {
     "data": {
      "text/html": [
       "<table>\n",
       "<thead><tr><th></th><th scope=col>used</th><th scope=col>(Mb)</th><th scope=col>gc trigger</th><th scope=col>(Mb)</th><th scope=col>max used</th><th scope=col>(Mb)</th></tr></thead>\n",
       "<tbody>\n",
       "\t<tr><th scope=row>Ncells</th><td>  1699544 </td><td>  90.8    </td><td>   5684620</td><td> 303.6    </td><td>   5684620</td><td>  303.6   </td></tr>\n",
       "\t<tr><th scope=row>Vcells</th><td>409881607 </td><td>3127.2    </td><td>1101065887</td><td>8400.5    </td><td>1376332266</td><td>10500.6   </td></tr>\n",
       "</tbody>\n",
       "</table>\n"
      ],
      "text/latex": [
       "\\begin{tabular}{r|llllll}\n",
       "  & used & (Mb) & gc trigger & (Mb) & max used & (Mb)\\\\\n",
       "\\hline\n",
       "\tNcells &   1699544  &   90.8     &    5684620 &  303.6     &    5684620 &   303.6   \\\\\n",
       "\tVcells & 409881607  & 3127.2     & 1101065887 & 8400.5     & 1376332266 & 10500.6   \\\\\n",
       "\\end{tabular}\n"
      ],
      "text/markdown": [
       "\n",
       "| <!--/--> | used | (Mb) | gc trigger | (Mb) | max used | (Mb) | \n",
       "|---|---|\n",
       "| Ncells |   1699544  |   90.8     |    5684620 |  303.6     |    5684620 |   303.6    | \n",
       "| Vcells | 409881607  | 3127.2     | 1101065887 | 8400.5     | 1376332266 | 10500.6    | \n",
       "\n",
       "\n"
      ],
      "text/plain": [
       "       used      (Mb)   gc trigger (Mb)   max used   (Mb)   \n",
       "Ncells   1699544   90.8    5684620  303.6    5684620   303.6\n",
       "Vcells 409881607 3127.2 1101065887 8400.5 1376332266 10500.6"
      ]
     },
     "metadata": {},
     "output_type": "display_data"
    },
    {
     "data": {
      "text/html": [
       "<table>\n",
       "<thead><tr><th></th><th scope=col>used</th><th scope=col>(Mb)</th><th scope=col>gc trigger</th><th scope=col>(Mb)</th><th scope=col>max used</th><th scope=col>(Mb)</th></tr></thead>\n",
       "<tbody>\n",
       "\t<tr><th scope=row>Ncells</th><td>  1699358 </td><td>  90.8    </td><td>   5684620</td><td> 303.6    </td><td>   5684620</td><td>  303.6   </td></tr>\n",
       "\t<tr><th scope=row>Vcells</th><td>376927695 </td><td>2875.8    </td><td>1101065887</td><td>8400.5    </td><td>1376332266</td><td>10500.6   </td></tr>\n",
       "</tbody>\n",
       "</table>\n"
      ],
      "text/latex": [
       "\\begin{tabular}{r|llllll}\n",
       "  & used & (Mb) & gc trigger & (Mb) & max used & (Mb)\\\\\n",
       "\\hline\n",
       "\tNcells &   1699358  &   90.8     &    5684620 &  303.6     &    5684620 &   303.6   \\\\\n",
       "\tVcells & 376927695  & 2875.8     & 1101065887 & 8400.5     & 1376332266 & 10500.6   \\\\\n",
       "\\end{tabular}\n"
      ],
      "text/markdown": [
       "\n",
       "| <!--/--> | used | (Mb) | gc trigger | (Mb) | max used | (Mb) | \n",
       "|---|---|\n",
       "| Ncells |   1699358  |   90.8     |    5684620 |  303.6     |    5684620 |   303.6    | \n",
       "| Vcells | 376927695  | 2875.8     | 1101065887 | 8400.5     | 1376332266 | 10500.6    | \n",
       "\n",
       "\n"
      ],
      "text/plain": [
       "       used      (Mb)   gc trigger (Mb)   max used   (Mb)   \n",
       "Ncells   1699358   90.8    5684620  303.6    5684620   303.6\n",
       "Vcells 376927695 2875.8 1101065887 8400.5 1376332266 10500.6"
      ]
     },
     "metadata": {},
     "output_type": "display_data"
    }
   ],
   "source": [
    "###########################################\n",
    "#############Process application.csv############\n",
    "###########################################\n",
    "application_features = list()\n",
    "train_cp = train %>% select(-TARGET,-fold, -Weights)\n",
    "\n",
    "application = rbind(train_cp,test)\n",
    "\n",
    "\n",
    "\n",
    "\n",
    "#############################################\n",
    "######################Engineered#############\n",
    "#############################################\n",
    "\n",
    "#borrowed from tidyxgb code on kaggle kernels\n",
    "tidy_xgb_features = application %>% \n",
    "  mutate_if(is.character, funs(factor(.) %>% as.integer) ) %>% \n",
    "  mutate(na = apply(., 1, function(x) sum(is.na(x))),\n",
    "         DAYS_EMPLOYED = ifelse(DAYS_EMPLOYED == 365243, NA, DAYS_EMPLOYED),\n",
    "         DAYS_EMPLOYED_PERC = sqrt(DAYS_EMPLOYED / DAYS_BIRTH),\n",
    "         INCOME_CREDIT_PERC = AMT_INCOME_TOTAL / AMT_CREDIT,\n",
    "         INCOME_PER_PERSON = log1p(AMT_INCOME_TOTAL / CNT_FAM_MEMBERS),\n",
    "         ANNUITY_INCOME_PERC = sqrt(AMT_ANNUITY / (1 + AMT_INCOME_TOTAL)),\n",
    "         LOAN_INCOME_RATIO = AMT_CREDIT / AMT_INCOME_TOTAL,\n",
    "         ANNUITY_LENGTH = AMT_CREDIT / AMT_ANNUITY,\n",
    "         CHILDREN_RATIO = CNT_CHILDREN / CNT_FAM_MEMBERS, \n",
    "         CREDIT_TO_GOODS_RATIO = AMT_CREDIT / AMT_GOODS_PRICE,\n",
    "         INC_PER_CHLD = AMT_INCOME_TOTAL / (1 + CNT_CHILDREN),\n",
    "         SOURCES_PROD = EXT_SOURCE_1 * EXT_SOURCE_2 * EXT_SOURCE_3,\n",
    "         CAR_TO_BIRTH_RATIO = OWN_CAR_AGE / DAYS_BIRTH,\n",
    "         CAR_TO_EMPLOY_RATIO = OWN_CAR_AGE / DAYS_EMPLOYED,\n",
    "         PHONE_TO_BIRTH_RATIO = DAYS_LAST_PHONE_CHANGE / DAYS_BIRTH,\n",
    "         PHONE_TO_EMPLOY_RATIO = DAYS_LAST_PHONE_CHANGE / DAYS_EMPLOYED) %>% \n",
    "  select(SK_ID_CURR, na, DAYS_EMPLOYED, DAYS_EMPLOYED_PERC, INCOME_CREDIT_PERC, INCOME_PER_PERSON, ANNUITY_INCOME_PERC,\n",
    "         LOAN_INCOME_RATIO, ANNUITY_LENGTH, CHILDREN_RATIO, CREDIT_TO_GOODS_RATIO, INC_PER_CHLD, SOURCES_PROD, CAR_TO_BIRTH_RATIO,\n",
    "         CAR_TO_EMPLOY_RATIO, PHONE_TO_BIRTH_RATIO, PHONE_TO_EMPLOY_RATIO)\n",
    "\n",
    "\n",
    "application_features[['borrowed_tidy_xgb_features']] = tidy_xgb_features\n",
    "\n",
    "rm(tidy_xgb_features); gc()\n",
    "#Take all ratios that may be relevant\n",
    "col_list = c(\n",
    "  'CNT_CHILDREN',\n",
    "  'AMT_INCOME_TOTAL',\n",
    "  'AMT_CREDIT',\n",
    "  'AMT_ANNUITY',\n",
    "  'AMT_GOODS_PRICE',\n",
    "  'DAYS_BIRTH',\n",
    "  'DAYS_EMPLOYED',\n",
    "  'DAYS_REGISTRATION',\n",
    "  'DAYS_ID_PUBLISH',\n",
    "  'OWN_CAR_AGE',\n",
    "  'CNT_FAM_MEMBERS',\n",
    "  'EXT_SOURCE_1',\n",
    "  'EXT_SOURCE_2',\n",
    "  'EXT_SOURCE_3',\n",
    "  'APARTMENTS_AVG',\n",
    "  'OBS_30_CNT_SOCIAL_CIRCLE',\n",
    "  'DEF_30_CNT_SOCIAL_CIRCLE',\n",
    "  'OBS_60_CNT_SOCIAL_CIRCLE',\n",
    "  'DAYS_LAST_PHONE_CHANGE',\n",
    "  'AMT_REQ_CREDIT_BUREAU_MON',\n",
    "  'AMT_REQ_CREDIT_BUREAU_QRT',\n",
    "  'AMT_REQ_CREDIT_BUREAU_YEAR')\n",
    "\n",
    "\n",
    "\n",
    "for(i in col_list){\n",
    "  for(j in col_list){\n",
    "    if(i != j){\n",
    "      print(i)\n",
    "      tmp = application %>% select('SK_ID_CURR', i, j)\n",
    "      tmp[[paste0(i,'_',j,'_ratio_application')]] = application[[i]] / application[[j]]\n",
    "      tmp = tmp %>% select(-i, -j)\n",
    "      application_features[[paste0(i,'_',j)]] = tmp\n",
    "    }\n",
    "  }\n",
    "}\n",
    "\n",
    "#count of documents provided\n",
    "\n",
    "FLAG_COLS = application %>% colnames() %>% grep(pattern = \"FLAG_DOCUMENT_(.*)\", value = TRUE) %>% unlist()\n",
    "\n",
    "\n",
    "Doc_Count = application %>% \n",
    "  select(c('SK_ID_CURR', FLAG_COLS)) %>% \n",
    "  mutate(Document_Count_application = apply( application[, FLAG_COLS], 1, sum ) ) %>% \n",
    "  select(-FLAG_COLS)\n",
    "\n",
    "application_features[['doc_cnt']] = Doc_Count\n",
    "rm(Doc_Count); gc()\n",
    "\n",
    "#Count of region mis-match\n",
    "ADDRESS_FLAGS = c(\n",
    "'REG_REGION_NOT_LIVE_REGION',\n",
    "'REG_REGION_NOT_WORK_REGION',\n",
    "'LIVE_REGION_NOT_WORK_REGION',\n",
    "'REG_CITY_NOT_LIVE_CITY',\n",
    "'REG_CITY_NOT_WORK_CITY',\n",
    "'LIVE_CITY_NOT_WORK_CITY')\n",
    "\n",
    "Reg_mismatch_count = application %>% \n",
    "  select(c('SK_ID_CURR', ADDRESS_FLAGS)) %>% \n",
    "  mutate(Reg_mismatch_count_application = apply(application[, ADDRESS_FLAGS], 1, sum) ) %>% \n",
    "  select(-ADDRESS_FLAGS)\n",
    "\n",
    "application_features[['Reg_mismatch']] = Reg_mismatch_count\n",
    "rm(Reg_mismatch_count); gc()\n",
    "\n",
    "#Score statistics\n",
    "SCORES = c('EXT_SOURCE_1', 'EXT_SOURCE_2', 'EXT_SOURCE_3')\n",
    "\n",
    "Score_analysis = application %>% \n",
    "  select(c('SK_ID_CURR', SCORES)) %>% \n",
    "  mutate(Avg_EXT_SOURCE_application = apply(application[, SCORES], 1, function(x) mean(x, na.rm=TRUE)) ) %>% \n",
    "  mutate(SD_EXT_SOURCE_application = apply(application[, SCORES], 1, function(x) sd(x, na.rm=TRUE))  ) %>% \n",
    "  mutate(EXT_SOURCE_missing_cnt_application = apply(application[, SCORES], 1, function(x) sum(is.na(x))) ) %>% \n",
    "  mutate(EXT_SOURCE_max_application = apply(application[, SCORES], 1, function(x) max(x) ) ) %>% \n",
    "  mutate(EXT_SOURCE_min_application = apply(application[, SCORES], 1, function(x) min(x) ) ) %>% \n",
    "  mutate(EXT_SOURCE_range_application = ifelse(EXT_SOURCE_missing_cnt_application >=2, NA, EXT_SOURCE_max_application - EXT_SOURCE_min_application) )\n",
    "\n",
    "application_features[['Score_analysis']] = Score_analysis\n",
    "rm(Score_analysis); gc()\n",
    "####################################\n",
    "###########Join in application features##\n",
    "####################################\n",
    "print(\"Joining in application features\")\n",
    "\n",
    "\n",
    "for(i in names(application_features)){\n",
    "  train_IDs_Joined = \n",
    "    train_IDs_Joined %>% \n",
    "    left_join(application_features[[i]], by = \"SK_ID_CURR\")\n",
    "  \n",
    "  test_IDs_Joined = \n",
    "    test_IDs_Joined %>% \n",
    "    left_join(application_features[[i]], by = \"SK_ID_CURR\")\n",
    "}\n",
    "\n",
    "if(dim(train_IDs)[1] != dim(train_IDs_Joined)[1]){\n",
    "  stop(\"DUPLICATE RECORDS RESULTING FROM BAD JOIN IN Combine Features STEP (application:train)\")\n",
    "}\n",
    "\n",
    "if(dim(test_IDs)[1] != dim(test_IDs_Joined)[1]){\n",
    "  stop(\"DUPLICATE RECORDS RESULTING FROM BAD JOIN IN Combine Features STEP (application:test)\")\n",
    "}\n",
    "\n",
    "rm(application_features); gc()\n",
    "rm(application); gc()\n",
    "\n",
    "\n",
    "\n",
    "\n",
    "\n",
    "\n"
   ]
  },
  {
   "cell_type": "markdown",
   "metadata": {},
   "source": [
    "## Process Bureau"
   ]
  },
  {
   "cell_type": "code",
   "execution_count": 5,
   "metadata": {},
   "outputs": [
    {
     "name": "stdout",
     "output_type": "stream",
     "text": [
      "[1] \"Counting field: CREDIT_ACTIVE\"\n",
      "[1] \"Counting field: CREDIT_CURRENCY\"\n",
      "[1] \"Counting field: CREDIT_TYPE\"\n"
     ]
    },
    {
     "data": {
      "text/html": [
       "<table>\n",
       "<thead><tr><th></th><th scope=col>used</th><th scope=col>(Mb)</th><th scope=col>gc trigger</th><th scope=col>(Mb)</th><th scope=col>max used</th><th scope=col>(Mb)</th></tr></thead>\n",
       "<tbody>\n",
       "\t<tr><th scope=row>Ncells</th><td>  1701142 </td><td>  90.9    </td><td>   5684620</td><td> 303.6    </td><td>   5684620</td><td>  303.6   </td></tr>\n",
       "\t<tr><th scope=row>Vcells</th><td>406178427 </td><td>3098.9    </td><td>1101065887</td><td>8400.5    </td><td>1376332266</td><td>10500.6   </td></tr>\n",
       "</tbody>\n",
       "</table>\n"
      ],
      "text/latex": [
       "\\begin{tabular}{r|llllll}\n",
       "  & used & (Mb) & gc trigger & (Mb) & max used & (Mb)\\\\\n",
       "\\hline\n",
       "\tNcells &   1701142  &   90.9     &    5684620 &  303.6     &    5684620 &   303.6   \\\\\n",
       "\tVcells & 406178427  & 3098.9     & 1101065887 & 8400.5     & 1376332266 & 10500.6   \\\\\n",
       "\\end{tabular}\n"
      ],
      "text/markdown": [
       "\n",
       "| <!--/--> | used | (Mb) | gc trigger | (Mb) | max used | (Mb) | \n",
       "|---|---|\n",
       "| Ncells |   1701142  |   90.9     |    5684620 |  303.6     |    5684620 |   303.6    | \n",
       "| Vcells | 406178427  | 3098.9     | 1101065887 | 8400.5     | 1376332266 | 10500.6    | \n",
       "\n",
       "\n"
      ],
      "text/plain": [
       "       used      (Mb)   gc trigger (Mb)   max used   (Mb)   \n",
       "Ncells   1701142   90.9    5684620  303.6    5684620   303.6\n",
       "Vcells 406178427 3098.9 1101065887 8400.5 1376332266 10500.6"
      ]
     },
     "metadata": {},
     "output_type": "display_data"
    },
    {
     "name": "stdout",
     "output_type": "stream",
     "text": [
      "[1] \"Computing statistics on: DAYS_CREDIT\"\n",
      "[1] \"Computing statistics on: CREDIT_DAY_OVERDUE\"\n",
      "[1] \"Computing statistics on: DAYS_CREDIT_ENDDATE\"\n",
      "[1] \"Computing statistics on: DAYS_ENDDATE_FACT\"\n",
      "[1] \"Computing statistics on: AMT_CREDIT_MAX_OVERDUE\"\n",
      "[1] \"Computing statistics on: CNT_CREDIT_PROLONG\"\n",
      "[1] \"Computing statistics on: AMT_CREDIT_SUM\"\n",
      "[1] \"Computing statistics on: AMT_CREDIT_SUM_DEBT\"\n",
      "[1] \"Computing statistics on: AMT_CREDIT_SUM_LIMIT\"\n",
      "[1] \"Computing statistics on: AMT_CREDIT_SUM_OVERDUE\"\n",
      "[1] \"Computing statistics on: DAYS_CREDIT_UPDATE\"\n",
      "[1] \"Computing statistics on: AMT_ANNUITY\"\n"
     ]
    },
    {
     "data": {
      "text/html": [
       "<table>\n",
       "<thead><tr><th></th><th scope=col>used</th><th scope=col>(Mb)</th><th scope=col>gc trigger</th><th scope=col>(Mb)</th><th scope=col>max used</th><th scope=col>(Mb)</th></tr></thead>\n",
       "<tbody>\n",
       "\t<tr><th scope=row>Ncells</th><td>  1701537 </td><td>  90.9    </td><td>   5684620</td><td> 303.6    </td><td>   5684620</td><td>  303.6   </td></tr>\n",
       "\t<tr><th scope=row>Vcells</th><td>425751011 </td><td>3248.3    </td><td>1101065887</td><td>8400.5    </td><td>1376332266</td><td>10500.6   </td></tr>\n",
       "</tbody>\n",
       "</table>\n"
      ],
      "text/latex": [
       "\\begin{tabular}{r|llllll}\n",
       "  & used & (Mb) & gc trigger & (Mb) & max used & (Mb)\\\\\n",
       "\\hline\n",
       "\tNcells &   1701537  &   90.9     &    5684620 &  303.6     &    5684620 &   303.6   \\\\\n",
       "\tVcells & 425751011  & 3248.3     & 1101065887 & 8400.5     & 1376332266 & 10500.6   \\\\\n",
       "\\end{tabular}\n"
      ],
      "text/markdown": [
       "\n",
       "| <!--/--> | used | (Mb) | gc trigger | (Mb) | max used | (Mb) | \n",
       "|---|---|\n",
       "| Ncells |   1701537  |   90.9     |    5684620 |  303.6     |    5684620 |   303.6    | \n",
       "| Vcells | 425751011  | 3248.3     | 1101065887 | 8400.5     | 1376332266 | 10500.6    | \n",
       "\n",
       "\n"
      ],
      "text/plain": [
       "       used      (Mb)   gc trigger (Mb)   max used   (Mb)   \n",
       "Ncells   1701537   90.9    5684620  303.6    5684620   303.6\n",
       "Vcells 425751011 3248.3 1101065887 8400.5 1376332266 10500.6"
      ]
     },
     "metadata": {},
     "output_type": "display_data"
    },
    {
     "data": {
      "text/html": [
       "<table>\n",
       "<thead><tr><th></th><th scope=col>used</th><th scope=col>(Mb)</th><th scope=col>gc trigger</th><th scope=col>(Mb)</th><th scope=col>max used</th><th scope=col>(Mb)</th></tr></thead>\n",
       "<tbody>\n",
       "\t<tr><th scope=row>Ncells</th><td>  2231465 </td><td> 119.2    </td><td>   5684620</td><td> 303.6    </td><td>   5684620</td><td>  303.6   </td></tr>\n",
       "\t<tr><th scope=row>Vcells</th><td>428678516 </td><td>3270.6    </td><td>1101065887</td><td>8400.5    </td><td>1376332266</td><td>10500.6   </td></tr>\n",
       "</tbody>\n",
       "</table>\n"
      ],
      "text/latex": [
       "\\begin{tabular}{r|llllll}\n",
       "  & used & (Mb) & gc trigger & (Mb) & max used & (Mb)\\\\\n",
       "\\hline\n",
       "\tNcells &   2231465  &  119.2     &    5684620 &  303.6     &    5684620 &   303.6   \\\\\n",
       "\tVcells & 428678516  & 3270.6     & 1101065887 & 8400.5     & 1376332266 & 10500.6   \\\\\n",
       "\\end{tabular}\n"
      ],
      "text/markdown": [
       "\n",
       "| <!--/--> | used | (Mb) | gc trigger | (Mb) | max used | (Mb) | \n",
       "|---|---|\n",
       "| Ncells |   2231465  |  119.2     |    5684620 |  303.6     |    5684620 |   303.6    | \n",
       "| Vcells | 428678516  | 3270.6     | 1101065887 | 8400.5     | 1376332266 | 10500.6    | \n",
       "\n",
       "\n"
      ],
      "text/plain": [
       "       used      (Mb)   gc trigger (Mb)   max used   (Mb)   \n",
       "Ncells   2231465  119.2    5684620  303.6    5684620   303.6\n",
       "Vcells 428678516 3270.6 1101065887 8400.5 1376332266 10500.6"
      ]
     },
     "metadata": {},
     "output_type": "display_data"
    },
    {
     "data": {
      "text/html": [
       "<table>\n",
       "<thead><tr><th></th><th scope=col>used</th><th scope=col>(Mb)</th><th scope=col>gc trigger</th><th scope=col>(Mb)</th><th scope=col>max used</th><th scope=col>(Mb)</th></tr></thead>\n",
       "<tbody>\n",
       "\t<tr><th scope=row>Ncells</th><td>  2232340 </td><td> 119.3    </td><td>   5684620</td><td> 303.6    </td><td>   5684620</td><td>  303.6   </td></tr>\n",
       "\t<tr><th scope=row>Vcells</th><td>429203244 </td><td>3274.6    </td><td>1101065887</td><td>8400.5    </td><td>1376332266</td><td>10500.6   </td></tr>\n",
       "</tbody>\n",
       "</table>\n"
      ],
      "text/latex": [
       "\\begin{tabular}{r|llllll}\n",
       "  & used & (Mb) & gc trigger & (Mb) & max used & (Mb)\\\\\n",
       "\\hline\n",
       "\tNcells &   2232340  &  119.3     &    5684620 &  303.6     &    5684620 &   303.6   \\\\\n",
       "\tVcells & 429203244  & 3274.6     & 1101065887 & 8400.5     & 1376332266 & 10500.6   \\\\\n",
       "\\end{tabular}\n"
      ],
      "text/markdown": [
       "\n",
       "| <!--/--> | used | (Mb) | gc trigger | (Mb) | max used | (Mb) | \n",
       "|---|---|\n",
       "| Ncells |   2232340  |  119.3     |    5684620 |  303.6     |    5684620 |   303.6    | \n",
       "| Vcells | 429203244  | 3274.6     | 1101065887 | 8400.5     | 1376332266 | 10500.6    | \n",
       "\n",
       "\n"
      ],
      "text/plain": [
       "       used      (Mb)   gc trigger (Mb)   max used   (Mb)   \n",
       "Ncells   2232340  119.3    5684620  303.6    5684620   303.6\n",
       "Vcells 429203244 3274.6 1101065887 8400.5 1376332266 10500.6"
      ]
     },
     "metadata": {},
     "output_type": "display_data"
    },
    {
     "name": "stdout",
     "output_type": "stream",
     "text": [
      "[1] \"Joining in bureau features\"\n"
     ]
    },
    {
     "data": {
      "text/html": [
       "<table>\n",
       "<thead><tr><th></th><th scope=col>used</th><th scope=col>(Mb)</th><th scope=col>gc trigger</th><th scope=col>(Mb)</th><th scope=col>max used</th><th scope=col>(Mb)</th></tr></thead>\n",
       "<tbody>\n",
       "\t<tr><th scope=row>Ncells</th><td>  1703696 </td><td>  91.0    </td><td>   5684620</td><td> 303.6    </td><td>   5684620</td><td>  303.6   </td></tr>\n",
       "\t<tr><th scope=row>Vcells</th><td>430573203 </td><td>3285.1    </td><td>1101065887</td><td>8400.5    </td><td>1376332266</td><td>10500.6   </td></tr>\n",
       "</tbody>\n",
       "</table>\n"
      ],
      "text/latex": [
       "\\begin{tabular}{r|llllll}\n",
       "  & used & (Mb) & gc trigger & (Mb) & max used & (Mb)\\\\\n",
       "\\hline\n",
       "\tNcells &   1703696  &   91.0     &    5684620 &  303.6     &    5684620 &   303.6   \\\\\n",
       "\tVcells & 430573203  & 3285.1     & 1101065887 & 8400.5     & 1376332266 & 10500.6   \\\\\n",
       "\\end{tabular}\n"
      ],
      "text/markdown": [
       "\n",
       "| <!--/--> | used | (Mb) | gc trigger | (Mb) | max used | (Mb) | \n",
       "|---|---|\n",
       "| Ncells |   1703696  |   91.0     |    5684620 |  303.6     |    5684620 |   303.6    | \n",
       "| Vcells | 430573203  | 3285.1     | 1101065887 | 8400.5     | 1376332266 | 10500.6    | \n",
       "\n",
       "\n"
      ],
      "text/plain": [
       "       used      (Mb)   gc trigger (Mb)   max used   (Mb)   \n",
       "Ncells   1703696   91.0    5684620  303.6    5684620   303.6\n",
       "Vcells 430573203 3285.1 1101065887 8400.5 1376332266 10500.6"
      ]
     },
     "metadata": {},
     "output_type": "display_data"
    }
   ],
   "source": [
    "###########################################\n",
    "#############Process bureau############\n",
    "###########################################\n",
    "bureau_features = list()\n",
    "bureau = read.csv('bureau.csv')\n",
    "\n",
    "\n",
    "\n",
    "###############################\n",
    "############Counting###########\n",
    "###############################\n",
    "\n",
    "bureau_record_count = bureau %>% \n",
    "  group_by(SK_ID_CURR) %>% \n",
    "  summarise(bureau_count = n())\n",
    "\n",
    "bureau_features[[\"record_count\"]] = bureau_record_count\n",
    "\n",
    "bureau_categoricals = c(\"CREDIT_ACTIVE\",\n",
    "                        \"CREDIT_CURRENCY\",\n",
    "                        \"CREDIT_TYPE\")\n",
    "\n",
    "bureau_categorical_count = count_categorical_list(bureau, bureau_categoricals,\"_bureau\")\n",
    "\n",
    "bureau_features = c(bureau_features, bureau_categorical_count)\n",
    "rm(bureau_categorical_count); gc()\n",
    "###############################\n",
    "############Statistics#########\n",
    "###############################\n",
    "numerical_list = c(\"DAYS_CREDIT\", \"CREDIT_DAY_OVERDUE\", \"DAYS_CREDIT_ENDDATE\",\n",
    "                   \"DAYS_ENDDATE_FACT\", \"AMT_CREDIT_MAX_OVERDUE\", \n",
    "                   \"CNT_CREDIT_PROLONG\", \"AMT_CREDIT_SUM\", \"AMT_CREDIT_SUM_DEBT\",\n",
    "                   \"AMT_CREDIT_SUM_LIMIT\", \"AMT_CREDIT_SUM_OVERDUE\",\n",
    "                   \"DAYS_CREDIT_UPDATE\", \"AMT_ANNUITY\")\n",
    "\n",
    "\n",
    "bureau_numerical_stats = basic_stats_agg_list(bureau, numerical_list, \"_bureau\")\n",
    "\n",
    "\n",
    "bureau_features = c(bureau_features, bureau_numerical_stats)\n",
    "rm(bureau_numerical_stats); gc()\n",
    "\n",
    "###############################\n",
    "############Engineered#########\n",
    "###############################\n",
    "\n",
    "\n",
    "#Get average time between credits\n",
    "days_credit_avg_bureau = \n",
    "  bureau %>% \n",
    "  select(SK_ID_CURR, DAYS_CREDIT) %>% \n",
    "  arrange(SK_ID_CURR, desc(DAYS_CREDIT)) %>% \n",
    "  group_by(SK_ID_CURR) %>% \n",
    "  mutate(first_record = ifelse(row_number() == n(),1,0)) %>% \n",
    "  mutate(DAYS_CREDIT_LAG = lead(DAYS_CREDIT,1)) %>% \n",
    "  mutate(Time_Diff = DAYS_CREDIT - DAYS_CREDIT_LAG) %>% \n",
    "  filter(first_record != 1) %>% \n",
    "  mutate(Avg_Time_Btwn_Credit = mean(Time_Diff, na.rm = TRUE) ) %>% \n",
    "  mutate(SDev_Time_Btwn_Cred = sd(Time_Diff, na.rm = TRUE)) %>% \n",
    "  select(SK_ID_CURR, Avg_Time_Btwn_Credit, SDev_Time_Btwn_Cred) %>% \n",
    "  distinct()\n",
    "\n",
    "bureau_features = c(bureau_features, list(days_credit_avg = days_credit_avg_bureau))\n",
    "rm(days_credit_avg_bureau); gc()\n",
    "\n",
    "#Get count of past credits\n",
    "prev_credits_bureau = \n",
    "  bureau %>% \n",
    "  filter(DAYS_CREDIT_ENDDATE < 0) %>% \n",
    "  group_by(SK_ID_CURR) %>% \n",
    "  summarise(Bureau_Past_Credit_Count = n())\n",
    "\n",
    "bureau_features = c(bureau_features, list(prev_credits = prev_credits_bureau))\n",
    "\n",
    "rm(prev_credits_bureau)\n",
    "#Get count of open credits\n",
    "curr_credits_bureau = \n",
    "  bureau %>% \n",
    "  filter(DAYS_CREDIT_ENDDATE >= 0) %>% \n",
    "  group_by(SK_ID_CURR) %>% \n",
    "  summarise(Bureau_Current_Credit_Count = n())\n",
    "\n",
    "bureau_features = c(bureau_features, list(curr_credits = curr_credits_bureau))\n",
    "rm(curr_credits_bureau)\n",
    "\n",
    "#Get amounts overdue based on DAYS_CREDIT_UPDATE buckets\n",
    "#if overdue amount reported years before current application then likely less relevant\n",
    "\n",
    "amt_overdue_buckets_bureau = \n",
    "  bureau %>% \n",
    "  select(SK_ID_CURR, DAYS_CREDIT_UPDATE, AMT_CREDIT_SUM_OVERDUE) %>% \n",
    "  filter(AMT_CREDIT_SUM_OVERDUE > 0) %>% \n",
    "  mutate(Time_Bucket = case_when(\n",
    "    DAYS_CREDIT_UPDATE >= -90 ~ \"AMT_CREDIT_OVERDUE_1Q_bureau\",\n",
    "    \n",
    "    DAYS_CREDIT_UPDATE < -90 &\n",
    "      DAYS_CREDIT_UPDATE >= -180 ~ \"AMT_CREDIT_OVERDUE_2Q_bureau\",\n",
    "    \n",
    "    DAYS_CREDIT_UPDATE < -180 &\n",
    "      DAYS_CREDIT_UPDATE >= -270 ~ \"AMT_CREDIT_OVERDUE_3Q_bureau\",\n",
    "    \n",
    "    DAYS_CREDIT_UPDATE < -270 &\n",
    "      DAYS_CREDIT_UPDATE >= -360 ~ \"AMT_CREDIT_OVERDUE_4Q_bureau\",\n",
    "    \n",
    "    TRUE ~ \"AMT_CREDIT_OVERDUE_GT1Y_bureau\"\n",
    "    \n",
    "  )) %>% \n",
    "  group_by(SK_ID_CURR, Time_Bucket) %>% \n",
    "  summarise(AMT_CREDIT_OVERDUE = sum(AMT_CREDIT_SUM_OVERDUE)) %>% \n",
    "  dcast(SK_ID_CURR ~ Time_Bucket, fill = 0, value.var = \"AMT_CREDIT_OVERDUE\")\n",
    "\n",
    "bureau_features = c(bureau_features, list(amt_od_buckets = amt_overdue_buckets_bureau))\n",
    "rm(amt_overdue_buckets_bureau); gc()\n",
    "\n",
    "\n",
    "\n"
   ]
  },
  {
   "cell_type": "code",
   "execution_count": null,
   "metadata": {},
   "outputs": [],
   "source": [
    "####################################\n",
    "###########Join in bureau features##\n",
    "####################################\n",
    "print(\"Joining in bureau features\")\n",
    "\n",
    "\n",
    "\n",
    "for(i in names(bureau_features)){\n",
    "  train_IDs_Joined = \n",
    "    train_IDs_Joined %>% \n",
    "    left_join(bureau_features[[i]], by = \"SK_ID_CURR\")\n",
    "  \n",
    "  test_IDs_Joined = \n",
    "    test_IDs_Joined %>% \n",
    "    left_join(bureau_features[[i]], by = \"SK_ID_CURR\")\n",
    "}\n",
    "\n",
    "if(dim(train_IDs)[1] != dim(train_IDs_Joined)[1]){\n",
    "  stop(\"DUPLICATE RECORDS RESULTING FROM BAD JOIN IN Combine Features STEP (bureau:train)\")\n",
    "}\n",
    "\n",
    "if(dim(test_IDs)[1] != dim(test_IDs_Joined)[1]){\n",
    "  stop(\"DUPLICATE RECORDS RESULTING FROM BAD JOIN IN Combine Features STEP (bureau:test)\")\n",
    "}\n",
    "\n",
    "rm(bureau_features); gc()"
   ]
  },
  {
   "cell_type": "markdown",
   "metadata": {},
   "source": [
    "## Process bureau balance"
   ]
  },
  {
   "cell_type": "code",
   "execution_count": 6,
   "metadata": {},
   "outputs": [
    {
     "data": {
      "text/html": [
       "<table>\n",
       "<thead><tr><th></th><th scope=col>used</th><th scope=col>(Mb)</th><th scope=col>gc trigger</th><th scope=col>(Mb)</th><th scope=col>max used</th><th scope=col>(Mb)</th></tr></thead>\n",
       "<tbody>\n",
       "\t<tr><th scope=row>Ncells</th><td>  1703243 </td><td>  91.0    </td><td>   5684620</td><td> 303.6    </td><td>   5684620</td><td>  303.6   </td></tr>\n",
       "\t<tr><th scope=row>Vcells</th><td>479096644 </td><td>3655.3    </td><td>1101065887</td><td>8400.5    </td><td>1376332266</td><td>10500.6   </td></tr>\n",
       "</tbody>\n",
       "</table>\n"
      ],
      "text/latex": [
       "\\begin{tabular}{r|llllll}\n",
       "  & used & (Mb) & gc trigger & (Mb) & max used & (Mb)\\\\\n",
       "\\hline\n",
       "\tNcells &   1703243  &   91.0     &    5684620 &  303.6     &    5684620 &   303.6   \\\\\n",
       "\tVcells & 479096644  & 3655.3     & 1101065887 & 8400.5     & 1376332266 & 10500.6   \\\\\n",
       "\\end{tabular}\n"
      ],
      "text/markdown": [
       "\n",
       "| <!--/--> | used | (Mb) | gc trigger | (Mb) | max used | (Mb) | \n",
       "|---|---|\n",
       "| Ncells |   1703243  |   91.0     |    5684620 |  303.6     |    5684620 |   303.6    | \n",
       "| Vcells | 479096644  | 3655.3     | 1101065887 | 8400.5     | 1376332266 | 10500.6    | \n",
       "\n",
       "\n"
      ],
      "text/plain": [
       "       used      (Mb)   gc trigger (Mb)   max used   (Mb)   \n",
       "Ncells   1703243   91.0    5684620  303.6    5684620   303.6\n",
       "Vcells 479096644 3655.3 1101065887 8400.5 1376332266 10500.6"
      ]
     },
     "metadata": {},
     "output_type": "display_data"
    },
    {
     "data": {
      "text/html": [
       "<table>\n",
       "<thead><tr><th></th><th scope=col>used</th><th scope=col>(Mb)</th><th scope=col>gc trigger</th><th scope=col>(Mb)</th><th scope=col>max used</th><th scope=col>(Mb)</th></tr></thead>\n",
       "<tbody>\n",
       "\t<tr><th scope=row>Ncells</th><td>  1703183 </td><td>  91.0    </td><td>   5684620</td><td> 303.6    </td><td>   5684620</td><td>  303.6   </td></tr>\n",
       "\t<tr><th scope=row>Vcells</th><td>477330550 </td><td>3641.8    </td><td>1101065887</td><td>8400.5    </td><td>1376332266</td><td>10500.6   </td></tr>\n",
       "</tbody>\n",
       "</table>\n"
      ],
      "text/latex": [
       "\\begin{tabular}{r|llllll}\n",
       "  & used & (Mb) & gc trigger & (Mb) & max used & (Mb)\\\\\n",
       "\\hline\n",
       "\tNcells &   1703183  &   91.0     &    5684620 &  303.6     &    5684620 &   303.6   \\\\\n",
       "\tVcells & 477330550  & 3641.8     & 1101065887 & 8400.5     & 1376332266 & 10500.6   \\\\\n",
       "\\end{tabular}\n"
      ],
      "text/markdown": [
       "\n",
       "| <!--/--> | used | (Mb) | gc trigger | (Mb) | max used | (Mb) | \n",
       "|---|---|\n",
       "| Ncells |   1703183  |   91.0     |    5684620 |  303.6     |    5684620 |   303.6    | \n",
       "| Vcells | 477330550  | 3641.8     | 1101065887 | 8400.5     | 1376332266 | 10500.6    | \n",
       "\n",
       "\n"
      ],
      "text/plain": [
       "       used      (Mb)   gc trigger (Mb)   max used   (Mb)   \n",
       "Ncells   1703183   91.0    5684620  303.6    5684620   303.6\n",
       "Vcells 477330550 3641.8 1101065887 8400.5 1376332266 10500.6"
      ]
     },
     "metadata": {},
     "output_type": "display_data"
    },
    {
     "data": {
      "text/html": [
       "<table>\n",
       "<thead><tr><th></th><th scope=col>used</th><th scope=col>(Mb)</th><th scope=col>gc trigger</th><th scope=col>(Mb)</th><th scope=col>max used</th><th scope=col>(Mb)</th></tr></thead>\n",
       "<tbody>\n",
       "\t<tr><th scope=row>Ncells</th><td>  1703456 </td><td>  91.0    </td><td>   5684620</td><td> 303.6    </td><td>   5684620</td><td>  303.6   </td></tr>\n",
       "\t<tr><th scope=row>Vcells</th><td>477936121 </td><td>3646.4    </td><td>1101065887</td><td>8400.5    </td><td>1376332266</td><td>10500.6   </td></tr>\n",
       "</tbody>\n",
       "</table>\n"
      ],
      "text/latex": [
       "\\begin{tabular}{r|llllll}\n",
       "  & used & (Mb) & gc trigger & (Mb) & max used & (Mb)\\\\\n",
       "\\hline\n",
       "\tNcells &   1703456  &   91.0     &    5684620 &  303.6     &    5684620 &   303.6   \\\\\n",
       "\tVcells & 477936121  & 3646.4     & 1101065887 & 8400.5     & 1376332266 & 10500.6   \\\\\n",
       "\\end{tabular}\n"
      ],
      "text/markdown": [
       "\n",
       "| <!--/--> | used | (Mb) | gc trigger | (Mb) | max used | (Mb) | \n",
       "|---|---|\n",
       "| Ncells |   1703456  |   91.0     |    5684620 |  303.6     |    5684620 |   303.6    | \n",
       "| Vcells | 477936121  | 3646.4     | 1101065887 | 8400.5     | 1376332266 | 10500.6    | \n",
       "\n",
       "\n"
      ],
      "text/plain": [
       "       used      (Mb)   gc trigger (Mb)   max used   (Mb)   \n",
       "Ncells   1703456   91.0    5684620  303.6    5684620   303.6\n",
       "Vcells 477936121 3646.4 1101065887 8400.5 1376332266 10500.6"
      ]
     },
     "metadata": {},
     "output_type": "display_data"
    },
    {
     "name": "stdout",
     "output_type": "stream",
     "text": [
      "[1] \"Joining in bureau_balance features\"\n"
     ]
    },
    {
     "data": {
      "text/html": [
       "<table>\n",
       "<thead><tr><th></th><th scope=col>used</th><th scope=col>(Mb)</th><th scope=col>gc trigger</th><th scope=col>(Mb)</th><th scope=col>max used</th><th scope=col>(Mb)</th></tr></thead>\n",
       "<tbody>\n",
       "\t<tr><th scope=row>Ncells</th><td>  1703589 </td><td>  91.0    </td><td>   5684620</td><td> 303.6    </td><td>   5684620</td><td>  303.6   </td></tr>\n",
       "\t<tr><th scope=row>Vcells</th><td>444823989 </td><td>3393.8    </td><td>1101065887</td><td>8400.5    </td><td>1376332266</td><td>10500.6   </td></tr>\n",
       "</tbody>\n",
       "</table>\n"
      ],
      "text/latex": [
       "\\begin{tabular}{r|llllll}\n",
       "  & used & (Mb) & gc trigger & (Mb) & max used & (Mb)\\\\\n",
       "\\hline\n",
       "\tNcells &   1703589  &   91.0     &    5684620 &  303.6     &    5684620 &   303.6   \\\\\n",
       "\tVcells & 444823989  & 3393.8     & 1101065887 & 8400.5     & 1376332266 & 10500.6   \\\\\n",
       "\\end{tabular}\n"
      ],
      "text/markdown": [
       "\n",
       "| <!--/--> | used | (Mb) | gc trigger | (Mb) | max used | (Mb) | \n",
       "|---|---|\n",
       "| Ncells |   1703589  |   91.0     |    5684620 |  303.6     |    5684620 |   303.6    | \n",
       "| Vcells | 444823989  | 3393.8     | 1101065887 | 8400.5     | 1376332266 | 10500.6    | \n",
       "\n",
       "\n"
      ],
      "text/plain": [
       "       used      (Mb)   gc trigger (Mb)   max used   (Mb)   \n",
       "Ncells   1703589   91.0    5684620  303.6    5684620   303.6\n",
       "Vcells 444823989 3393.8 1101065887 8400.5 1376332266 10500.6"
      ]
     },
     "metadata": {},
     "output_type": "display_data"
    },
    {
     "data": {
      "text/html": [
       "<table>\n",
       "<thead><tr><th></th><th scope=col>used</th><th scope=col>(Mb)</th><th scope=col>gc trigger</th><th scope=col>(Mb)</th><th scope=col>max used</th><th scope=col>(Mb)</th></tr></thead>\n",
       "<tbody>\n",
       "\t<tr><th scope=row>Ncells</th><td>  1703536 </td><td>  91.0    </td><td>   5684620</td><td> 303.6    </td><td>   5684620</td><td>  303.6   </td></tr>\n",
       "\t<tr><th scope=row>Vcells</th><td>425084930 </td><td>3243.2    </td><td>1101065887</td><td>8400.5    </td><td>1376332266</td><td>10500.6   </td></tr>\n",
       "</tbody>\n",
       "</table>\n"
      ],
      "text/latex": [
       "\\begin{tabular}{r|llllll}\n",
       "  & used & (Mb) & gc trigger & (Mb) & max used & (Mb)\\\\\n",
       "\\hline\n",
       "\tNcells &   1703536  &   91.0     &    5684620 &  303.6     &    5684620 &   303.6   \\\\\n",
       "\tVcells & 425084930  & 3243.2     & 1101065887 & 8400.5     & 1376332266 & 10500.6   \\\\\n",
       "\\end{tabular}\n"
      ],
      "text/markdown": [
       "\n",
       "| <!--/--> | used | (Mb) | gc trigger | (Mb) | max used | (Mb) | \n",
       "|---|---|\n",
       "| Ncells |   1703536  |   91.0     |    5684620 |  303.6     |    5684620 |   303.6    | \n",
       "| Vcells | 425084930  | 3243.2     | 1101065887 | 8400.5     | 1376332266 | 10500.6    | \n",
       "\n",
       "\n"
      ],
      "text/plain": [
       "       used      (Mb)   gc trigger (Mb)   max used   (Mb)   \n",
       "Ncells   1703536   91.0    5684620  303.6    5684620   303.6\n",
       "Vcells 425084930 3243.2 1101065887 8400.5 1376332266 10500.6"
      ]
     },
     "metadata": {},
     "output_type": "display_data"
    },
    {
     "data": {
      "text/html": [
       "<table>\n",
       "<thead><tr><th></th><th scope=col>used</th><th scope=col>(Mb)</th><th scope=col>gc trigger</th><th scope=col>(Mb)</th><th scope=col>max used</th><th scope=col>(Mb)</th></tr></thead>\n",
       "<tbody>\n",
       "\t<tr><th scope=row>Ncells</th><td>  1703507 </td><td>  91.0    </td><td>   5684620</td><td> 303.6    </td><td>   5684620</td><td>  303.6   </td></tr>\n",
       "\t<tr><th scope=row>Vcells</th><td>421574216 </td><td>3216.4    </td><td>1101065887</td><td>8400.5    </td><td>1376332266</td><td>10500.6   </td></tr>\n",
       "</tbody>\n",
       "</table>\n"
      ],
      "text/latex": [
       "\\begin{tabular}{r|llllll}\n",
       "  & used & (Mb) & gc trigger & (Mb) & max used & (Mb)\\\\\n",
       "\\hline\n",
       "\tNcells &   1703507  &   91.0     &    5684620 &  303.6     &    5684620 &   303.6   \\\\\n",
       "\tVcells & 421574216  & 3216.4     & 1101065887 & 8400.5     & 1376332266 & 10500.6   \\\\\n",
       "\\end{tabular}\n"
      ],
      "text/markdown": [
       "\n",
       "| <!--/--> | used | (Mb) | gc trigger | (Mb) | max used | (Mb) | \n",
       "|---|---|\n",
       "| Ncells |   1703507  |   91.0     |    5684620 |  303.6     |    5684620 |   303.6    | \n",
       "| Vcells | 421574216  | 3216.4     | 1101065887 | 8400.5     | 1376332266 | 10500.6    | \n",
       "\n",
       "\n"
      ],
      "text/plain": [
       "       used      (Mb)   gc trigger (Mb)   max used   (Mb)   \n",
       "Ncells   1703507   91.0    5684620  303.6    5684620   303.6\n",
       "Vcells 421574216 3216.4 1101065887 8400.5 1376332266 10500.6"
      ]
     },
     "metadata": {},
     "output_type": "display_data"
    }
   ],
   "source": [
    "###########################################\n",
    "#############Process bureau_balance.csv###########\n",
    "###########################################\n",
    "id_crosswalk = bureau %>% select(SK_ID_CURR, SK_ID_BUREAU)\n",
    "\n",
    "bureau_balance_features = list()\n",
    "bbalance = read.csv(\"bureau_balance.csv\")\n",
    "\n",
    "#count number & proportion of each status for each id\n",
    "\n",
    "\n",
    "b_balance_status_overall_base = \n",
    "  id_crosswalk %>% \n",
    "  left_join(bbalance, by = 'SK_ID_BUREAU') %>% \n",
    "  group_by(SK_ID_CURR, STATUS) %>% \n",
    "  summarise(STATUS_count_bbalance = n()) %>% \n",
    "  group_by(SK_ID_CURR) %>% \n",
    "  mutate(record_count_bbureau = sum(STATUS_count_bbalance)) %>% \n",
    "  ungroup() %>% \n",
    "  mutate(STATUS_overall_proportion_bbureau = STATUS_count_bbalance / record_count_bbureau) \n",
    "\n",
    "b_balance_status_overall_count = b_balance_status_overall_base %>% \n",
    "  mutate(STATUS = gsub(STATUS, pattern = \" \", replacement = \"\") ) %>% \n",
    "  mutate(STATUS = paste0(STATUS,\"_count_bbalance\" )) %>% \n",
    "  dcast(SK_ID_CURR~STATUS, fill = 0, value.var = \"STATUS_count_bbalance\")\n",
    "  \n",
    "bureau_balance_features = c(bureau_balance_features, list(bureau_balance_status_count = b_balance_status_overall_count))\n",
    "\n",
    "\n",
    "b_balance_status_overall_proportion = b_balance_status_overall_base %>% \n",
    "  mutate(STATUS = gsub(STATUS, pattern = \" \", replacement = \"\") ) %>% \n",
    "  mutate(STATUS = paste0(STATUS,\"_proportion_bbalance\" )) %>% \n",
    "  dcast(SK_ID_CURR~STATUS, fill = 0, value.var = \"STATUS_overall_proportion_bbureau\")\n",
    "\n",
    "bureau_balance_features = c(bureau_balance_features, list(bureau_balance_status_overall_proportion = b_balance_status_overall_proportion))\n",
    "\n",
    "rm(b_balance_status_overall_proportion); gc()\n",
    "\n",
    "rm(b_balance_status_overall_base); gc()\n",
    "#count time since statuses 1-5\n",
    "\n",
    "\n",
    "bbalance_time_since_status = \n",
    "  id_crosswalk %>% \n",
    "  inner_join(bbalance, by = \"SK_ID_BUREAU\") %>% \n",
    "  group_by(SK_ID_CURR, STATUS) %>% \n",
    "  summarise(min_time = max(MONTHS_BALANCE, na.rm = T)) %>% \n",
    "  ungroup() %>% \n",
    "  mutate(STATUS = paste0(\"Time_Since_Status_\",STATUS,\"_bbalance\")) %>% \n",
    "  dcast(SK_ID_CURR~STATUS, value.var = \"min_time\")\n",
    "\n",
    "bureau_balance_features = c(bureau_balance_features, list(bureau_balance_time_since_status = bbalance_time_since_status) )\n",
    "rm(bbalance_time_since_status); gc()\n",
    "##############################################\n",
    "##########Join in bureau_balance features#####\n",
    "##############################################\n",
    "print(\"Joining in bureau_balance features\")\n",
    "\n",
    "for(i in names(bureau_balance_features)){\n",
    "  train_IDs_Joined =\n",
    "    train_IDs_Joined %>% \n",
    "    left_join(bureau_balance_features[[i]], by = 'SK_ID_CURR')\n",
    "  \n",
    "  test_IDs_Joined = \n",
    "    test_IDs_Joined %>% \n",
    "    left_join(bureau_balance_features[[i]], by = 'SK_ID_CURR')\n",
    "}\n",
    "\n",
    "if(dim(train_IDs)[1] != dim(train_IDs_Joined)[1]){\n",
    "  stop(\"DUPLICATE RECORDS RESULTING FROM BAD JOIN IN Combine Features STEP (bureau_balance:train)\")\n",
    "}\n",
    "\n",
    "if(dim(test_IDs)[1] != dim(test_IDs_Joined)[1]){\n",
    "  stop(\"DUPLICATE RECORDS RESULTING FROM BAD JOIN IN Combine Features STEP (bureau_balance:test)\")\n",
    "}\n",
    "\n",
    "\n",
    "\n",
    "\n",
    "\n",
    "  #average record count of credit\n",
    "  #overall proportion within each status\n",
    "rm(bbalance); gc()\n",
    "rm(bureau); gc()\n",
    "rm(bureau_balance_features); gc()\n",
    "\n"
   ]
  },
  {
   "cell_type": "markdown",
   "metadata": {},
   "source": [
    "## Process POS_CASH_balance"
   ]
  },
  {
   "cell_type": "code",
   "execution_count": 7,
   "metadata": {},
   "outputs": [
    {
     "data": {
      "text/html": [
       "<table>\n",
       "<thead><tr><th></th><th scope=col>used</th><th scope=col>(Mb)</th><th scope=col>gc trigger</th><th scope=col>(Mb)</th><th scope=col>max used</th><th scope=col>(Mb)</th></tr></thead>\n",
       "<tbody>\n",
       "\t<tr><th scope=row>Ncells</th><td>  1703568 </td><td>  91.0    </td><td>   5684620</td><td> 303.6    </td><td>   5684620</td><td>  303.6   </td></tr>\n",
       "\t<tr><th scope=row>Vcells</th><td>471882493 </td><td>3600.2    </td><td>1101065887</td><td>8400.5    </td><td>1376332266</td><td>10500.6   </td></tr>\n",
       "</tbody>\n",
       "</table>\n"
      ],
      "text/latex": [
       "\\begin{tabular}{r|llllll}\n",
       "  & used & (Mb) & gc trigger & (Mb) & max used & (Mb)\\\\\n",
       "\\hline\n",
       "\tNcells &   1703568  &   91.0     &    5684620 &  303.6     &    5684620 &   303.6   \\\\\n",
       "\tVcells & 471882493  & 3600.2     & 1101065887 & 8400.5     & 1376332266 & 10500.6   \\\\\n",
       "\\end{tabular}\n"
      ],
      "text/markdown": [
       "\n",
       "| <!--/--> | used | (Mb) | gc trigger | (Mb) | max used | (Mb) | \n",
       "|---|---|\n",
       "| Ncells |   1703568  |   91.0     |    5684620 |  303.6     |    5684620 |   303.6    | \n",
       "| Vcells | 471882493  | 3600.2     | 1101065887 | 8400.5     | 1376332266 | 10500.6    | \n",
       "\n",
       "\n"
      ],
      "text/plain": [
       "       used      (Mb)   gc trigger (Mb)   max used   (Mb)   \n",
       "Ncells   1703568   91.0    5684620  303.6    5684620   303.6\n",
       "Vcells 471882493 3600.2 1101065887 8400.5 1376332266 10500.6"
      ]
     },
     "metadata": {},
     "output_type": "display_data"
    },
    {
     "data": {
      "text/html": [
       "<table>\n",
       "<thead><tr><th></th><th scope=col>used</th><th scope=col>(Mb)</th><th scope=col>gc trigger</th><th scope=col>(Mb)</th><th scope=col>max used</th><th scope=col>(Mb)</th></tr></thead>\n",
       "<tbody>\n",
       "\t<tr><th scope=row>Ncells</th><td>  1703602 </td><td>  91.0    </td><td>   5684620</td><td> 303.6    </td><td>   5684620</td><td>  303.6   </td></tr>\n",
       "\t<tr><th scope=row>Vcells</th><td>471957788 </td><td>3600.8    </td><td>1101065887</td><td>8400.5    </td><td>1376332266</td><td>10500.6   </td></tr>\n",
       "</tbody>\n",
       "</table>\n"
      ],
      "text/latex": [
       "\\begin{tabular}{r|llllll}\n",
       "  & used & (Mb) & gc trigger & (Mb) & max used & (Mb)\\\\\n",
       "\\hline\n",
       "\tNcells &   1703602  &   91.0     &    5684620 &  303.6     &    5684620 &   303.6   \\\\\n",
       "\tVcells & 471957788  & 3600.8     & 1101065887 & 8400.5     & 1376332266 & 10500.6   \\\\\n",
       "\\end{tabular}\n"
      ],
      "text/markdown": [
       "\n",
       "| <!--/--> | used | (Mb) | gc trigger | (Mb) | max used | (Mb) | \n",
       "|---|---|\n",
       "| Ncells |   1703602  |   91.0     |    5684620 |  303.6     |    5684620 |   303.6    | \n",
       "| Vcells | 471957788  | 3600.8     | 1101065887 | 8400.5     | 1376332266 | 10500.6    | \n",
       "\n",
       "\n"
      ],
      "text/plain": [
       "       used      (Mb)   gc trigger (Mb)   max used   (Mb)   \n",
       "Ncells   1703602   91.0    5684620  303.6    5684620   303.6\n",
       "Vcells 471957788 3600.8 1101065887 8400.5 1376332266 10500.6"
      ]
     },
     "metadata": {},
     "output_type": "display_data"
    },
    {
     "data": {
      "text/html": [
       "<table>\n",
       "<thead><tr><th></th><th scope=col>used</th><th scope=col>(Mb)</th><th scope=col>gc trigger</th><th scope=col>(Mb)</th><th scope=col>max used</th><th scope=col>(Mb)</th></tr></thead>\n",
       "<tbody>\n",
       "\t<tr><th scope=row>Ncells</th><td>  1703633 </td><td>  91.0    </td><td>   5684620</td><td> 303.6    </td><td>   5684620</td><td>  303.6   </td></tr>\n",
       "\t<tr><th scope=row>Vcells</th><td>472463684 </td><td>3604.7    </td><td>1101065887</td><td>8400.5    </td><td>1376332266</td><td>10500.6   </td></tr>\n",
       "</tbody>\n",
       "</table>\n"
      ],
      "text/latex": [
       "\\begin{tabular}{r|llllll}\n",
       "  & used & (Mb) & gc trigger & (Mb) & max used & (Mb)\\\\\n",
       "\\hline\n",
       "\tNcells &   1703633  &   91.0     &    5684620 &  303.6     &    5684620 &   303.6   \\\\\n",
       "\tVcells & 472463684  & 3604.7     & 1101065887 & 8400.5     & 1376332266 & 10500.6   \\\\\n",
       "\\end{tabular}\n"
      ],
      "text/markdown": [
       "\n",
       "| <!--/--> | used | (Mb) | gc trigger | (Mb) | max used | (Mb) | \n",
       "|---|---|\n",
       "| Ncells |   1703633  |   91.0     |    5684620 |  303.6     |    5684620 |   303.6    | \n",
       "| Vcells | 472463684  | 3604.7     | 1101065887 | 8400.5     | 1376332266 | 10500.6    | \n",
       "\n",
       "\n"
      ],
      "text/plain": [
       "       used      (Mb)   gc trigger (Mb)   max used   (Mb)   \n",
       "Ncells   1703633   91.0    5684620  303.6    5684620   303.6\n",
       "Vcells 472463684 3604.7 1101065887 8400.5 1376332266 10500.6"
      ]
     },
     "metadata": {},
     "output_type": "display_data"
    },
    {
     "data": {
      "text/html": [
       "<table>\n",
       "<thead><tr><th></th><th scope=col>used</th><th scope=col>(Mb)</th><th scope=col>gc trigger</th><th scope=col>(Mb)</th><th scope=col>max used</th><th scope=col>(Mb)</th></tr></thead>\n",
       "<tbody>\n",
       "\t<tr><th scope=row>Ncells</th><td>  2040982 </td><td> 109.1    </td><td>   5684620</td><td> 303.6    </td><td>   5684620</td><td>  303.6   </td></tr>\n",
       "\t<tr><th scope=row>Vcells</th><td>477482891 </td><td>3643.0    </td><td>1101065887</td><td>8400.5    </td><td>1376332266</td><td>10500.6   </td></tr>\n",
       "</tbody>\n",
       "</table>\n"
      ],
      "text/latex": [
       "\\begin{tabular}{r|llllll}\n",
       "  & used & (Mb) & gc trigger & (Mb) & max used & (Mb)\\\\\n",
       "\\hline\n",
       "\tNcells &   2040982  &  109.1     &    5684620 &  303.6     &    5684620 &   303.6   \\\\\n",
       "\tVcells & 477482891  & 3643.0     & 1101065887 & 8400.5     & 1376332266 & 10500.6   \\\\\n",
       "\\end{tabular}\n"
      ],
      "text/markdown": [
       "\n",
       "| <!--/--> | used | (Mb) | gc trigger | (Mb) | max used | (Mb) | \n",
       "|---|---|\n",
       "| Ncells |   2040982  |  109.1     |    5684620 |  303.6     |    5684620 |   303.6    | \n",
       "| Vcells | 477482891  | 3643.0     | 1101065887 | 8400.5     | 1376332266 | 10500.6    | \n",
       "\n",
       "\n"
      ],
      "text/plain": [
       "       used      (Mb)   gc trigger (Mb)   max used   (Mb)   \n",
       "Ncells   2040982  109.1    5684620  303.6    5684620   303.6\n",
       "Vcells 477482891 3643.0 1101065887 8400.5 1376332266 10500.6"
      ]
     },
     "metadata": {},
     "output_type": "display_data"
    },
    {
     "name": "stdout",
     "output_type": "stream",
     "text": [
      "[1] \"POS_CASH:  Performing 2-way aggregations: monthly data -> SK_ID_PREV -> SK_ID_CURR\"\n",
      "[1] \"This may take some time...\"\n"
     ]
    },
    {
     "data": {
      "text/html": [
       "<table>\n",
       "<thead><tr><th></th><th scope=col>used</th><th scope=col>(Mb)</th><th scope=col>gc trigger</th><th scope=col>(Mb)</th><th scope=col>max used</th><th scope=col>(Mb)</th></tr></thead>\n",
       "<tbody>\n",
       "\t<tr><th scope=row>Ncells</th><td>  2043111 </td><td> 109.2    </td><td>   5684620</td><td> 303.6    </td><td>   5684620</td><td>  303.6   </td></tr>\n",
       "\t<tr><th scope=row>Vcells</th><td>594345886 </td><td>4534.5    </td><td>1101065887</td><td>8400.5    </td><td>1376332266</td><td>10500.6   </td></tr>\n",
       "</tbody>\n",
       "</table>\n"
      ],
      "text/latex": [
       "\\begin{tabular}{r|llllll}\n",
       "  & used & (Mb) & gc trigger & (Mb) & max used & (Mb)\\\\\n",
       "\\hline\n",
       "\tNcells &   2043111  &  109.2     &    5684620 &  303.6     &    5684620 &   303.6   \\\\\n",
       "\tVcells & 594345886  & 4534.5     & 1101065887 & 8400.5     & 1376332266 & 10500.6   \\\\\n",
       "\\end{tabular}\n"
      ],
      "text/markdown": [
       "\n",
       "| <!--/--> | used | (Mb) | gc trigger | (Mb) | max used | (Mb) | \n",
       "|---|---|\n",
       "| Ncells |   2043111  |  109.2     |    5684620 |  303.6     |    5684620 |   303.6    | \n",
       "| Vcells | 594345886  | 4534.5     | 1101065887 | 8400.5     | 1376332266 | 10500.6    | \n",
       "\n",
       "\n"
      ],
      "text/plain": [
       "       used      (Mb)   gc trigger (Mb)   max used   (Mb)   \n",
       "Ncells   2043111  109.2    5684620  303.6    5684620   303.6\n",
       "Vcells 594345886 4534.5 1101065887 8400.5 1376332266 10500.6"
      ]
     },
     "metadata": {},
     "output_type": "display_data"
    },
    {
     "name": "stdout",
     "output_type": "stream",
     "text": [
      "[1] \"Joining in POS_CASH features\"\n"
     ]
    },
    {
     "data": {
      "text/html": [
       "<table>\n",
       "<thead><tr><th></th><th scope=col>used</th><th scope=col>(Mb)</th><th scope=col>gc trigger</th><th scope=col>(Mb)</th><th scope=col>max used</th><th scope=col>(Mb)</th></tr></thead>\n",
       "<tbody>\n",
       "\t<tr><th scope=row>Ncells</th><td>  2043935 </td><td> 109.2    </td><td>   5684620</td><td> 303.6    </td><td>   5684620</td><td>  303.6   </td></tr>\n",
       "\t<tr><th scope=row>Vcells</th><td>670098715 </td><td>5112.5    </td><td>1101065887</td><td>8400.5    </td><td>1376332266</td><td>10500.6   </td></tr>\n",
       "</tbody>\n",
       "</table>\n"
      ],
      "text/latex": [
       "\\begin{tabular}{r|llllll}\n",
       "  & used & (Mb) & gc trigger & (Mb) & max used & (Mb)\\\\\n",
       "\\hline\n",
       "\tNcells &   2043935  &  109.2     &    5684620 &  303.6     &    5684620 &   303.6   \\\\\n",
       "\tVcells & 670098715  & 5112.5     & 1101065887 & 8400.5     & 1376332266 & 10500.6   \\\\\n",
       "\\end{tabular}\n"
      ],
      "text/markdown": [
       "\n",
       "| <!--/--> | used | (Mb) | gc trigger | (Mb) | max used | (Mb) | \n",
       "|---|---|\n",
       "| Ncells |   2043935  |  109.2     |    5684620 |  303.6     |    5684620 |   303.6    | \n",
       "| Vcells | 670098715  | 5112.5     | 1101065887 | 8400.5     | 1376332266 | 10500.6    | \n",
       "\n",
       "\n"
      ],
      "text/plain": [
       "       used      (Mb)   gc trigger (Mb)   max used   (Mb)   \n",
       "Ncells   2043935  109.2    5684620  303.6    5684620   303.6\n",
       "Vcells 670098715 5112.5 1101065887 8400.5 1376332266 10500.6"
      ]
     },
     "metadata": {},
     "output_type": "display_data"
    },
    {
     "data": {
      "text/html": [
       "<table>\n",
       "<thead><tr><th></th><th scope=col>used</th><th scope=col>(Mb)</th><th scope=col>gc trigger</th><th scope=col>(Mb)</th><th scope=col>max used</th><th scope=col>(Mb)</th></tr></thead>\n",
       "<tbody>\n",
       "\t<tr><th scope=row>Ncells</th><td>  2043502 </td><td> 109.2    </td><td>   5684620</td><td> 303.6    </td><td>   5684620</td><td>  303.6   </td></tr>\n",
       "\t<tr><th scope=row>Vcells</th><td>550503779 </td><td>4200.1    </td><td>1101065887</td><td>8400.5    </td><td>1376332266</td><td>10500.6   </td></tr>\n",
       "</tbody>\n",
       "</table>\n"
      ],
      "text/latex": [
       "\\begin{tabular}{r|llllll}\n",
       "  & used & (Mb) & gc trigger & (Mb) & max used & (Mb)\\\\\n",
       "\\hline\n",
       "\tNcells &   2043502  &  109.2     &    5684620 &  303.6     &    5684620 &   303.6   \\\\\n",
       "\tVcells & 550503779  & 4200.1     & 1101065887 & 8400.5     & 1376332266 & 10500.6   \\\\\n",
       "\\end{tabular}\n"
      ],
      "text/markdown": [
       "\n",
       "| <!--/--> | used | (Mb) | gc trigger | (Mb) | max used | (Mb) | \n",
       "|---|---|\n",
       "| Ncells |   2043502  |  109.2     |    5684620 |  303.6     |    5684620 |   303.6    | \n",
       "| Vcells | 550503779  | 4200.1     | 1101065887 | 8400.5     | 1376332266 | 10500.6    | \n",
       "\n",
       "\n"
      ],
      "text/plain": [
       "       used      (Mb)   gc trigger (Mb)   max used   (Mb)   \n",
       "Ncells   2043502  109.2    5684620  303.6    5684620   303.6\n",
       "Vcells 550503779 4200.1 1101065887 8400.5 1376332266 10500.6"
      ]
     },
     "metadata": {},
     "output_type": "display_data"
    }
   ],
   "source": [
    "##################################################################################################################\n",
    "############################################Process POS_CASH_balance.csv##########################################\n",
    "##################################################################################################################\n",
    "POS_CASH_features = list()\n",
    "p_cash_balance = read.csv('POS_CASH_balance.csv')\n",
    "\n",
    "\n",
    "#Engineered\n",
    "\n",
    "\n",
    "#count of completed\n",
    "\n",
    "p_cash_balance_completed_count = p_cash_balance %>% \n",
    "  filter(NAME_CONTRACT_STATUS == \"Completed\") %>% \n",
    "  group_by(SK_ID_CURR) %>% \n",
    "  summarise(Completed_Count_POS_CASH = n())\n",
    "\n",
    "POS_CASH_features = c(POS_CASH_features, list(POS_CASH_Completed_Count = p_cash_balance_completed_count))\n",
    "rm(p_cash_balance_completed_count); gc()\n",
    "#count of current active\n",
    "p_cash_balance_current_active_count = p_cash_balance %>% \n",
    "  filter(MONTHS_BALANCE == -1) %>% \n",
    "  filter(NAME_CONTRACT_STATUS == \"Active\") %>% \n",
    "  group_by(SK_ID_CURR) %>% \n",
    "  summarise(Current_Active_Count_POS_CASH = n())\n",
    "\n",
    "POS_CASH_features = c(POS_CASH_features, list(POS_CASH_current_active_Count = p_cash_balance_current_active_count))\n",
    "rm(p_cash_balance_current_active_count); gc()\n",
    "#count of dpd loans in borrower's history\n",
    "p_cash_balance_max_dpd = p_cash_balance %>% \n",
    "  group_by(SK_ID_PREV, SK_ID_CURR) %>% \n",
    "  summarise(max_dpd = max(SK_DPD)) %>% ungroup() %>% \n",
    "  mutate(DQ_Flag = ifelse(max_dpd > 0, 1, 0) ) %>% \n",
    "  group_by(SK_ID_CURR) %>% \n",
    "  summarise(Ever_DPD_Count_POS_CASH = sum(DQ_Flag))\n",
    "\n",
    "POS_CASH_features = c(POS_CASH_features, list(POS_CASH_Ever_Dpd_count = p_cash_balance_max_dpd))\n",
    "rm(p_cash_balance_max_dpd); gc()\n",
    "#loan term statistics\n",
    "p_cash_balance_CNT_INSTALLMENT = \n",
    "  p_cash_balance %>% \n",
    "  group_by(SK_ID_CURR, SK_ID_PREV) %>% \n",
    "  summarise(CNT_INSTALLMENT_MODE = Mode(CNT_INSTALMENT, na.rm=T))\n",
    "\n",
    "p_cash_balance_CNT_INSTALLMENT_MODE_Statistics = basic_stats_agg(dt = p_cash_balance_CNT_INSTALLMENT,field =  \"CNT_INSTALLMENT_MODE\", suffix = \"_POS_CASH\")\n",
    "\n",
    "POS_CASH_features = c(POS_CASH_features, list(CNT_INSTALLMENT_MODE_Statistics = p_cash_balance_CNT_INSTALLMENT_MODE_Statistics)) \n",
    "rm(p_cash_balance_CNT_INSTALLMENT_MODE_Statistics); gc()\n",
    "#apply many possible numerical mappings SK_ID_PREV -> SK_ID_CURR then compute statistics\n",
    "FZ = funs(mean, sd, median, Mode, min, max, sum, n_distinct, .args = list(na.rm=TRUE))\n",
    "print(\"POS_CASH:  Performing 2-way aggregations: monthly data -> SK_ID_PREV -> SK_ID_CURR\")\n",
    "print(\"This may take some time...\")\n",
    "p_cash_balance_nMap = \n",
    "  p_cash_balance %>% \n",
    "  mutate_if(is.character, funs(factor(.) %>% as.integer) ) %>% \n",
    "  mutate_if(is.factor, as.integer) %>%\n",
    "  group_by(SK_ID_PREV, SK_ID_CURR) %>% \n",
    "  summarise_all(FZ) %>% \n",
    "  ungroup() %>% \n",
    "  select(-SK_ID_PREV) %>% \n",
    "  group_by(SK_ID_CURR) %>% \n",
    "  summarise_all(FZ) %>% \n",
    "  rename_at(vars(-SK_ID_CURR), ~paste0(., \"_POS_CASH\"))\n",
    "\n",
    "POS_CASH_features = c(POS_CASH_features, list(cash_balance_nMap = p_cash_balance_nMap)) \n",
    "rm(p_cash_balance_nMap); gc()\n",
    "\n",
    "\n",
    "##################################################\n",
    "###########Join in POS_CASH features##############\n",
    "##################################################\n",
    "print(\"Joining in POS_CASH features\")\n",
    "for(i in names(POS_CASH_features)){\n",
    "  train_IDs_Joined = \n",
    "    train_IDs_Joined %>% \n",
    "    left_join(POS_CASH_features[[i]], by = \"SK_ID_CURR\")\n",
    "  \n",
    "  test_IDs_Joined = \n",
    "    test_IDs_Joined %>% \n",
    "    left_join(POS_CASH_features[[i]], by = \"SK_ID_CURR\")\n",
    "}\n",
    "\n",
    "if(dim(train_IDs)[1] != dim(train_IDs_Joined)[1]){\n",
    "  stop(\"DUPLICATE RECORDS RESULTING FROM BAD JOIN IN Combine Features STEP (POS_CASH:train)\")\n",
    "}\n",
    "\n",
    "if(dim(test_IDs)[1] != dim(test_IDs_Joined)[1]){\n",
    "  stop(\"DUPLICATE RECORDS RESULTING FROM BAD JOIN IN Combine Features STEP (POS_CASH:test)\")\n",
    "}\n",
    "rm(p_cash_balance); gc()\n",
    "rm(POS_CASH_features); gc()\n",
    "\n"
   ]
  },
  {
   "cell_type": "markdown",
   "metadata": {},
   "source": [
    "## Process credit_card_balance"
   ]
  },
  {
   "cell_type": "code",
   "execution_count": 8,
   "metadata": {},
   "outputs": [
    {
     "name": "stdout",
     "output_type": "stream",
     "text": [
      "[1] \"credit_card_balance:  Performing 2-way aggregations: monthly data -> SK_ID_PREV -> SK_ID_CURR\"\n",
      "[1] \"This may take some time...\"\n"
     ]
    },
    {
     "data": {
      "text/html": [
       "<table>\n",
       "<thead><tr><th></th><th scope=col>used</th><th scope=col>(Mb)</th><th scope=col>gc trigger</th><th scope=col>(Mb)</th><th scope=col>max used</th><th scope=col>(Mb)</th></tr></thead>\n",
       "<tbody>\n",
       "\t<tr><th scope=row>Ncells</th><td>  2049430 </td><td> 109.5    </td><td>   5684620</td><td> 303.6    </td><td>   5684620</td><td>  303.6   </td></tr>\n",
       "\t<tr><th scope=row>Vcells</th><td>750604967 </td><td>5726.7    </td><td>1101065887</td><td>8400.5    </td><td>1376332266</td><td>10500.6   </td></tr>\n",
       "</tbody>\n",
       "</table>\n"
      ],
      "text/latex": [
       "\\begin{tabular}{r|llllll}\n",
       "  & used & (Mb) & gc trigger & (Mb) & max used & (Mb)\\\\\n",
       "\\hline\n",
       "\tNcells &   2049430  &  109.5     &    5684620 &  303.6     &    5684620 &   303.6   \\\\\n",
       "\tVcells & 750604967  & 5726.7     & 1101065887 & 8400.5     & 1376332266 & 10500.6   \\\\\n",
       "\\end{tabular}\n"
      ],
      "text/markdown": [
       "\n",
       "| <!--/--> | used | (Mb) | gc trigger | (Mb) | max used | (Mb) | \n",
       "|---|---|\n",
       "| Ncells |   2049430  |  109.5     |    5684620 |  303.6     |    5684620 |   303.6    | \n",
       "| Vcells | 750604967  | 5726.7     | 1101065887 | 8400.5     | 1376332266 | 10500.6    | \n",
       "\n",
       "\n"
      ],
      "text/plain": [
       "       used      (Mb)   gc trigger (Mb)   max used   (Mb)   \n",
       "Ncells   2049430  109.5    5684620  303.6    5684620   303.6\n",
       "Vcells 750604967 5726.7 1101065887 8400.5 1376332266 10500.6"
      ]
     },
     "metadata": {},
     "output_type": "display_data"
    },
    {
     "name": "stdout",
     "output_type": "stream",
     "text": [
      "[1] \"Joining in credit_card_balance features\"\n"
     ]
    },
    {
     "data": {
      "text/html": [
       "<table>\n",
       "<thead><tr><th></th><th scope=col>used</th><th scope=col>(Mb)</th><th scope=col>gc trigger</th><th scope=col>(Mb)</th><th scope=col>max used</th><th scope=col>(Mb)</th></tr></thead>\n",
       "<tbody>\n",
       "\t<tr><th scope=row>Ncells</th><td>   2052136</td><td> 109.6    </td><td>   5684620</td><td>  303.6   </td><td>   5684620</td><td>  303.6   </td></tr>\n",
       "\t<tr><th scope=row>Vcells</th><td>1114769384</td><td>8505.1    </td><td>1904267819</td><td>14528.5   </td><td>1586821484</td><td>12106.5   </td></tr>\n",
       "</tbody>\n",
       "</table>\n"
      ],
      "text/latex": [
       "\\begin{tabular}{r|llllll}\n",
       "  & used & (Mb) & gc trigger & (Mb) & max used & (Mb)\\\\\n",
       "\\hline\n",
       "\tNcells &    2052136 &  109.6     &    5684620 &   303.6    &    5684620 &   303.6   \\\\\n",
       "\tVcells & 1114769384 & 8505.1     & 1904267819 & 14528.5    & 1586821484 & 12106.5   \\\\\n",
       "\\end{tabular}\n"
      ],
      "text/markdown": [
       "\n",
       "| <!--/--> | used | (Mb) | gc trigger | (Mb) | max used | (Mb) | \n",
       "|---|---|\n",
       "| Ncells |    2052136 |  109.6     |    5684620 |   303.6    |    5684620 |   303.6    | \n",
       "| Vcells | 1114769384 | 8505.1     | 1904267819 | 14528.5    | 1586821484 | 12106.5    | \n",
       "\n",
       "\n"
      ],
      "text/plain": [
       "       used       (Mb)   gc trigger (Mb)    max used   (Mb)   \n",
       "Ncells    2052136  109.6    5684620   303.6    5684620   303.6\n",
       "Vcells 1114769384 8505.1 1904267819 14528.5 1586821484 12106.5"
      ]
     },
     "metadata": {},
     "output_type": "display_data"
    },
    {
     "data": {
      "text/html": [
       "<table>\n",
       "<thead><tr><th></th><th scope=col>used</th><th scope=col>(Mb)</th><th scope=col>gc trigger</th><th scope=col>(Mb)</th><th scope=col>max used</th><th scope=col>(Mb)</th></tr></thead>\n",
       "<tbody>\n",
       "\t<tr><th scope=row>Ncells</th><td>  2050783 </td><td> 109.6    </td><td>   5684620</td><td>  303.6   </td><td>   5684620</td><td>  303.6   </td></tr>\n",
       "\t<tr><th scope=row>Vcells</th><td>987649241 </td><td>7535.2    </td><td>1904267819</td><td>14528.5   </td><td>1586821484</td><td>12106.5   </td></tr>\n",
       "</tbody>\n",
       "</table>\n"
      ],
      "text/latex": [
       "\\begin{tabular}{r|llllll}\n",
       "  & used & (Mb) & gc trigger & (Mb) & max used & (Mb)\\\\\n",
       "\\hline\n",
       "\tNcells &   2050783  &  109.6     &    5684620 &   303.6    &    5684620 &   303.6   \\\\\n",
       "\tVcells & 987649241  & 7535.2     & 1904267819 & 14528.5    & 1586821484 & 12106.5   \\\\\n",
       "\\end{tabular}\n"
      ],
      "text/markdown": [
       "\n",
       "| <!--/--> | used | (Mb) | gc trigger | (Mb) | max used | (Mb) | \n",
       "|---|---|\n",
       "| Ncells |   2050783  |  109.6     |    5684620 |   303.6    |    5684620 |   303.6    | \n",
       "| Vcells | 987649241  | 7535.2     | 1904267819 | 14528.5    | 1586821484 | 12106.5    | \n",
       "\n",
       "\n"
      ],
      "text/plain": [
       "       used      (Mb)   gc trigger (Mb)    max used   (Mb)   \n",
       "Ncells   2050783  109.6    5684620   303.6    5684620   303.6\n",
       "Vcells 987649241 7535.2 1904267819 14528.5 1586821484 12106.5"
      ]
     },
     "metadata": {},
     "output_type": "display_data"
    }
   ],
   "source": [
    "#########################################################\n",
    "#############Process credit_card_balance.csv############\n",
    "#########################################################\n",
    "credit_card_balance_features = list()\n",
    "credit_card = read.csv('credit_card_balance.csv')\n",
    "\n",
    "\n",
    "#Double-aggregation statistics:\n",
    "FZ = funs(mean, sd, median, Mode, min, max, sum, n_distinct, .args = list(na.rm=TRUE))\n",
    "print(\"credit_card_balance:  Performing 2-way aggregations: monthly data -> SK_ID_PREV -> SK_ID_CURR\")\n",
    "print(\"This may take some time...\")\n",
    "credit_card_balance_nMap = \n",
    "  credit_card %>% \n",
    "  mutate_if(is.character, funs(factor(.) %>% as.integer) ) %>% \n",
    "  mutate_if(is.factor, as.integer) %>%\n",
    "  group_by(SK_ID_PREV, SK_ID_CURR) %>% \n",
    "  summarise_all(FZ) %>% \n",
    "  ungroup() %>% \n",
    "  select(-SK_ID_PREV) %>% \n",
    "  group_by(SK_ID_CURR) %>% \n",
    "  summarise_all(FZ) %>% \n",
    "  rename_at(vars(-SK_ID_CURR), ~paste0(., \"_credit_card_balance\"))\n",
    "\n",
    "credit_card_balance_features = c(credit_card_balance_features, list(credit_card_nMap = credit_card_balance_nMap)) \n",
    "rm(credit_card_balance_nMap); gc()\n",
    "\n",
    "##################################################\n",
    "###########Join in credit_card_balance features##\n",
    "##################################################\n",
    "print(\"Joining in credit_card_balance features\")\n",
    "for(i in names(credit_card_balance_features)){\n",
    "  train_IDs_Joined = \n",
    "    train_IDs_Joined %>% \n",
    "    left_join(credit_card_balance_features[[i]], by = \"SK_ID_CURR\")\n",
    "  \n",
    "  test_IDs_Joined = \n",
    "    test_IDs_Joined %>% \n",
    "    left_join(credit_card_balance_features[[i]], by = \"SK_ID_CURR\")\n",
    "}\n",
    "\n",
    "if(dim(train_IDs)[1] != dim(train_IDs_Joined)[1]){\n",
    "  stop(\"DUPLICATE RECORDS RESULTING FROM BAD JOIN IN Combine Features STEP (credit_card_balance:train)\")\n",
    "}\n",
    "\n",
    "if(dim(test_IDs)[1] != dim(test_IDs_Joined)[1]){\n",
    "  stop(\"DUPLICATE RECORDS RESULTING FROM BAD JOIN IN Combine Features STEP (credit_card_balance:test)\")\n",
    "}\n",
    "\n",
    "rm(credit_card); gc()\n",
    "rm(credit_card_balance_features); gc()\n",
    "\n",
    "\n",
    "\n"
   ]
  },
  {
   "cell_type": "markdown",
   "metadata": {},
   "source": [
    "## Process previous application"
   ]
  },
  {
   "cell_type": "code",
   "execution_count": 9,
   "metadata": {},
   "outputs": [
    {
     "name": "stdout",
     "output_type": "stream",
     "text": [
      "[1] \"Counting field: NAME_CONTRACT_TYPE\"\n",
      "[1] \"Counting field: WEEKDAY_APPR_PROCESS_START\"\n",
      "[1] \"Counting field: NAME_CASH_LOAN_PURPOSE\"\n",
      "[1] \"Counting field: NAME_CONTRACT_STATUS\"\n",
      "[1] \"Counting field: NAME_PAYMENT_TYPE\"\n",
      "[1] \"Counting field: CODE_REJECT_REASON\"\n",
      "[1] \"Counting field: NAME_TYPE_SUITE\"\n",
      "[1] \"Counting field: NAME_CLIENT_TYPE\"\n",
      "[1] \"Counting field: NAME_GOODS_CATEGORY\"\n",
      "[1] \"Counting field: NAME_PRODUCT_TYPE\"\n",
      "[1] \"Counting field: CHANNEL_TYPE\"\n",
      "[1] \"Counting field: NAME_SELLER_INDUSTRY\"\n",
      "[1] \"Counting field: NAME_YIELD_GROUP\"\n",
      "[1] \"Counting field: PRODUCT_COMBINATION\"\n",
      "[1] \"Computing statistics on: AMT_ANNUITY\"\n",
      "[1] \"Computing statistics on: AMT_APPLICATION\"\n",
      "[1] \"Computing statistics on: AMT_CREDIT\"\n",
      "[1] \"Computing statistics on: AMT_DOWN_PAYMENT\"\n",
      "[1] \"Computing statistics on: AMT_GOODS_PRICE\"\n",
      "[1] \"Computing statistics on: RATE_DOWN_PAYMENT\"\n",
      "[1] \"Computing statistics on: RATE_INTEREST_PRIMARY\"\n",
      "[1] \"Computing statistics on: RATE_INTEREST_PRIVILEGED\"\n",
      "[1] \"Computing statistics on: DAYS_DECISION\"\n",
      "[1] \"Computing statistics on: SELLERPLACE_AREA\"\n",
      "[1] \"Computing statistics on: CNT_PAYMENT\"\n",
      "[1] \"Computing statistics on: DAYS_FIRST_DRAWING\"\n",
      "[1] \"Computing statistics on: DAYS_FIRST_DUE\"\n",
      "[1] \"Computing statistics on: DAYS_LAST_DUE_1ST_VERSION\"\n",
      "[1] \"Computing statistics on: DAYS_LAST_DUE\"\n",
      "[1] \"Computing statistics on: DAYS_TERMINATION\"\n",
      "[1] \"Computing statistics on: Delta_Credit\"\n",
      "[1] \"Joining in previous_application features\"\n"
     ]
    },
    {
     "data": {
      "text/html": [
       "<table>\n",
       "<thead><tr><th></th><th scope=col>used</th><th scope=col>(Mb)</th><th scope=col>gc trigger</th><th scope=col>(Mb)</th><th scope=col>max used</th><th scope=col>(Mb)</th></tr></thead>\n",
       "<tbody>\n",
       "\t<tr><th scope=row>Ncells</th><td>   2052431</td><td> 109.7    </td><td>   5684620</td><td>  303.6   </td><td>   5684620</td><td>  303.6   </td></tr>\n",
       "\t<tr><th scope=row>Vcells</th><td>1147739906</td><td>8756.6    </td><td>2285201382</td><td>17434.8   </td><td>2285198787</td><td>17434.7   </td></tr>\n",
       "</tbody>\n",
       "</table>\n"
      ],
      "text/latex": [
       "\\begin{tabular}{r|llllll}\n",
       "  & used & (Mb) & gc trigger & (Mb) & max used & (Mb)\\\\\n",
       "\\hline\n",
       "\tNcells &    2052431 &  109.7     &    5684620 &   303.6    &    5684620 &   303.6   \\\\\n",
       "\tVcells & 1147739906 & 8756.6     & 2285201382 & 17434.8    & 2285198787 & 17434.7   \\\\\n",
       "\\end{tabular}\n"
      ],
      "text/markdown": [
       "\n",
       "| <!--/--> | used | (Mb) | gc trigger | (Mb) | max used | (Mb) | \n",
       "|---|---|\n",
       "| Ncells |    2052431 |  109.7     |    5684620 |   303.6    |    5684620 |   303.6    | \n",
       "| Vcells | 1147739906 | 8756.6     | 2285201382 | 17434.8    | 2285198787 | 17434.7    | \n",
       "\n",
       "\n"
      ],
      "text/plain": [
       "       used       (Mb)   gc trigger (Mb)    max used   (Mb)   \n",
       "Ncells    2052431  109.7    5684620   303.6    5684620   303.6\n",
       "Vcells 1147739906 8756.6 2285201382 17434.8 2285198787 17434.7"
      ]
     },
     "metadata": {},
     "output_type": "display_data"
    }
   ],
   "source": [
    "#########################################################\n",
    "#############Process previous_application.csv############\n",
    "#########################################################\n",
    "previous_application_features = list()\n",
    "previous_application = read.csv(\"previous_application.csv\")\n",
    "\n",
    "previous_application = previous_application %>% \n",
    "  mutate(Delta_Credit = AMT_CREDIT - AMT_APPLICATION)\n",
    "\n",
    "###############################\n",
    "############Counting###########\n",
    "###############################\n",
    "\n",
    "\n",
    "previous_application_record_count = previous_application %>% \n",
    "  group_by(SK_ID_CURR) %>% \n",
    "  summarise(prev_app_count = n())\n",
    "\n",
    "previous_application_features[[\"record_count\"]] = previous_application_record_count\n",
    "\n",
    "categorical_list = c(\"NAME_CONTRACT_TYPE\", \"WEEKDAY_APPR_PROCESS_START\", \"NAME_CASH_LOAN_PURPOSE\", \"NAME_CONTRACT_STATUS\",\n",
    "                    \"NAME_PAYMENT_TYPE\", \"CODE_REJECT_REASON\", \"NAME_TYPE_SUITE\", \"NAME_CLIENT_TYPE\", \"NAME_GOODS_CATEGORY\",\n",
    "                    \"NAME_PRODUCT_TYPE\", \"CHANNEL_TYPE\", \"NAME_SELLER_INDUSTRY\", \"NAME_YIELD_GROUP\", \"PRODUCT_COMBINATION\")\n",
    "\n",
    "prev_app_categorical_count = count_categorical_list(previous_application, categorical_list,\"_prev_app\")\n",
    "\n",
    "previous_application_features = c(previous_application_features, prev_app_categorical_count)\n",
    "\n",
    "\n",
    "\n",
    "###############################\n",
    "############Statistics#########\n",
    "###############################\n",
    "numerical_list = c(\"AMT_ANNUITY\", \"AMT_APPLICATION\", \"AMT_CREDIT\", \"AMT_DOWN_PAYMENT\",\n",
    "                   \"AMT_GOODS_PRICE\", \"RATE_DOWN_PAYMENT\", \"RATE_INTEREST_PRIMARY\",\n",
    "                   \"RATE_INTEREST_PRIVILEGED\", \"DAYS_DECISION\", \"SELLERPLACE_AREA\",\n",
    "                   \"CNT_PAYMENT\", \"DAYS_FIRST_DRAWING\", \"DAYS_FIRST_DUE\", \"DAYS_LAST_DUE_1ST_VERSION\",\n",
    "                   \"DAYS_LAST_DUE\", \"DAYS_TERMINATION\", \"Delta_Credit\")\n",
    "\n",
    "\n",
    "prev_app_numerical_stats = basic_stats_agg_list(previous_application, numerical_list, \"_prev_app\")\n",
    "\n",
    "previous_application_features = c(previous_application_features, prev_app_numerical_stats)\n",
    "\n",
    "###############################\n",
    "############Engineered#########\n",
    "###############################\n",
    "\n",
    "##################################################\n",
    "###########Join in previous_application features##\n",
    "##################################################\n",
    "print(\"Joining in previous_application features\")\n",
    "for(i in names(previous_application_features)){\n",
    "  train_IDs_Joined = \n",
    "    train_IDs_Joined %>% \n",
    "    left_join(previous_application_features[[i]], by = \"SK_ID_CURR\")\n",
    "  \n",
    "  test_IDs_Joined = \n",
    "    test_IDs_Joined %>% \n",
    "    left_join(previous_application_features[[i]], by = \"SK_ID_CURR\")\n",
    "}\n",
    "\n",
    "if(dim(train_IDs)[1] != dim(train_IDs_Joined)[1]){\n",
    "  stop(\"DUPLICATE RECORDS RESULTING FROM BAD JOIN IN Combine Features STEP (previous_application:train)\")\n",
    "}\n",
    "\n",
    "if(dim(test_IDs)[1] != dim(test_IDs_Joined)[1]){\n",
    "  stop(\"DUPLICATE RECORDS RESULTING FROM BAD JOIN IN Combine Features STEP (previous_application:test)\")\n",
    "}\n",
    "\n",
    "rm(previous_application); gc()\n",
    "rm(previous_application_features)\n",
    "\n",
    "\n",
    "\n"
   ]
  },
  {
   "cell_type": "markdown",
   "metadata": {},
   "source": [
    "## Final Data Integrity Checks and Write Data"
   ]
  },
  {
   "cell_type": "code",
   "execution_count": 18,
   "metadata": {},
   "outputs": [
    {
     "data": {
      "text/html": [
       "<ol class=list-inline>\n",
       "\t<li>307511</li>\n",
       "\t<li>124</li>\n",
       "</ol>\n"
      ],
      "text/latex": [
       "\\begin{enumerate*}\n",
       "\\item 307511\n",
       "\\item 124\n",
       "\\end{enumerate*}\n"
      ],
      "text/markdown": [
       "1. 307511\n",
       "2. 124\n",
       "\n",
       "\n"
      ],
      "text/plain": [
       "[1] 307511    124"
      ]
     },
     "metadata": {},
     "output_type": "display_data"
    },
    {
     "data": {
      "text/html": [
       "<ol class=list-inline>\n",
       "\t<li>307511</li>\n",
       "\t<li>3204</li>\n",
       "</ol>\n"
      ],
      "text/latex": [
       "\\begin{enumerate*}\n",
       "\\item 307511\n",
       "\\item 3204\n",
       "\\end{enumerate*}\n"
      ],
      "text/markdown": [
       "1. 307511\n",
       "2. 3204\n",
       "\n",
       "\n"
      ],
      "text/plain": [
       "[1] 307511   3204"
      ]
     },
     "metadata": {},
     "output_type": "display_data"
    },
    {
     "data": {
      "text/html": [
       "<ol class=list-inline>\n",
       "\t<li>48744</li>\n",
       "\t<li>121</li>\n",
       "</ol>\n"
      ],
      "text/latex": [
       "\\begin{enumerate*}\n",
       "\\item 48744\n",
       "\\item 121\n",
       "\\end{enumerate*}\n"
      ],
      "text/markdown": [
       "1. 48744\n",
       "2. 121\n",
       "\n",
       "\n"
      ],
      "text/plain": [
       "[1] 48744   121"
      ]
     },
     "metadata": {},
     "output_type": "display_data"
    },
    {
     "data": {
      "text/html": [
       "<ol class=list-inline>\n",
       "\t<li>48744</li>\n",
       "\t<li>3201</li>\n",
       "</ol>\n"
      ],
      "text/latex": [
       "\\begin{enumerate*}\n",
       "\\item 48744\n",
       "\\item 3201\n",
       "\\end{enumerate*}\n"
      ],
      "text/markdown": [
       "1. 48744\n",
       "2. 3201\n",
       "\n",
       "\n"
      ],
      "text/plain": [
       "[1] 48744  3201"
      ]
     },
     "metadata": {},
     "output_type": "display_data"
    },
    {
     "name": "stdout",
     "output_type": "stream",
     "text": [
      "[1] \"Train columns not in test:\"\n",
      "[1] \"TARGET\"  \"fold\"    \"Weights\"\n",
      "[1] \"Test columns not in train:\"\n",
      "character(0)\n",
      "[1] \"Writing column list\"\n",
      "[1] \"Writing out datasets\"\n",
      "[1] \"Process complete\"\n"
     ]
    }
   ],
   "source": [
    "\n",
    "####################################################\n",
    "#####################Final integrity checks#########\n",
    "####################################################\n",
    "\n",
    "\n",
    "\n",
    "\n",
    "train %>% dim()\n",
    "\n",
    "train_out = \n",
    "  train %>% \n",
    "  left_join(train_IDs_Joined, by = \"SK_ID_CURR\")\n",
    "dim(train_out)\n",
    "\n",
    "test %>% dim()\n",
    "\n",
    "test_out =\n",
    "  test %>% \n",
    "  left_join(test_IDs_Joined, by = \"SK_ID_CURR\")\n",
    "dim(test_out)\n",
    "\n",
    "\n",
    "\n",
    "#Check column composition of train and test:\n",
    "train_cols = train_out %>% colnames()\n",
    "test_cols = test_out %>% colnames()\n",
    "\n",
    "if(sum(c(\"TARGET\", \"fold\", \"Weights\") %in% train_cols) != 3){\n",
    "\tstop(\"train data missing one of: TARGET, fold, Weights\")\n",
    "}\n",
    "\n",
    "train_cols = train_cols[!train_cols %in% c(\"TARGET\",\"fold\",\"Weights\")]\n",
    "train_cols_not_test = train_cols[!(train_cols %in% test_cols)]\n",
    "test_cols_not_train = test_cols[!(test_cols %in% train_cols)]\n",
    "\n",
    "if(length(train_cols_not_test) > 0){\n",
    "\tpaste0(\"train contains columns not found in test: \", train_cols_not_test)\n",
    "}\n",
    "\n",
    "if(length(test_cols_not_train) > 0){\n",
    "\tpaste0(\"test contains columns not found in train: \", test_cols_not_train)\n",
    "}\n",
    "\n",
    "\n",
    "final_train_cols = train_cols[!(train_cols %in% train_cols_not_test)]\n",
    "final_train_cols = c(\"TARGET\", \"fold\", \"Weights\", final_train_cols)\n",
    "\n",
    "final_test_cols = test_cols[!(test_cols %in% test_cols_not_train)]\n",
    "\n",
    "train_out = train_out %>%\n",
    "\tselect(final_train_cols)\n",
    "\n",
    "test_out = test_out %>%\n",
    "\tselect(final_test_cols)\n",
    "\n",
    "\n",
    "train_cols_last_check = train_out %>% colnames()\n",
    "test_cols_last_check = test_out %>% colnames()\n",
    "\n",
    "print(\"Train columns not in test:\")\n",
    "print(train_cols_last_check[!(train_cols_last_check %in% test_cols_last_check)])\n",
    "\n",
    "print(\"Test columns not in train:\")\n",
    "print(test_cols_last_check[!(test_cols_last_check %in% train_cols_last_check)])\n",
    "\n",
    "print(\"Writing column list\")\n",
    "column_frame = train_out %>% colnames() %>% data.frame()\n",
    "write.csv(column_frame, \"train_column_list.csv\")\n",
    "\n",
    "\n",
    "######################################\n",
    "#############write csvs###############\n",
    "######################################\n",
    "print(\"Writing out datasets\")\n",
    "write.csv(train_out, \"train_modified.csv\")\n",
    "write.csv(test_out, \"test_modified.csv\")\n",
    "print(\"Process complete\")\n"
   ]
  }
 ],
 "metadata": {
  "kernelspec": {
   "display_name": "R",
   "language": "R",
   "name": "ir"
  },
  "language_info": {
   "codemirror_mode": "r",
   "file_extension": ".r",
   "mimetype": "text/x-r-source",
   "name": "R",
   "pygments_lexer": "r",
   "version": "3.3.3"
  }
 },
 "nbformat": 4,
 "nbformat_minor": 2
}
