{
 "cells": [
  {
   "cell_type": "markdown",
   "metadata": {},
   "source": [
    "# CV Shift Weight Generator Notebook"
   ]
  },
  {
   "cell_type": "markdown",
   "metadata": {},
   "source": [
    "### Notes"
   ]
  },
  {
   "cell_type": "markdown",
   "metadata": {},
   "source": [
    "Notebook attempts to approximate:\n",
    "\n",
    "$\\frac{f_{test}(x_i)}{f_{train}(x_i)}$ as $\\frac{Pr(x_i)}{1-Pr(x_i)}$, where $Pr(x_i)$ is the probability that observation i is in the test set."
   ]
  },
  {
   "cell_type": "markdown",
   "metadata": {},
   "source": [
    "### Imports"
   ]
  },
  {
   "cell_type": "code",
   "execution_count": 1,
   "metadata": {},
   "outputs": [
    {
     "name": "stderr",
     "output_type": "stream",
     "text": [
      "/home/matia_alexander/miniconda3/envs/deeplearning/lib/python3.5/site-packages/sklearn/cross_validation.py:41: DeprecationWarning: This module was deprecated in version 0.18 in favor of the model_selection module into which all the refactored classes and functions are moved. Also note that the interface of the new CV iterators are different from that of this module. This module will be removed in 0.20.\n",
      "  \"This module will be removed in 0.20.\", DeprecationWarning)\n"
     ]
    },
    {
     "name": "stdout",
     "output_type": "stream",
     "text": [
      "------Imports complete------\n"
     ]
    }
   ],
   "source": [
    "import pandas as pd\n",
    "import numpy as np\n",
    "import copy\n",
    "import pandas as pd\n",
    "import numpy as np\n",
    "from sklearn.ensemble import RandomForestClassifier\n",
    "from sklearn.preprocessing import OneHotEncoder\n",
    "from sklearn.metrics import roc_curve, auc\n",
    "from sklearn.metrics import roc_auc_score\n",
    "from sklearn.model_selection import RandomizedSearchCV\n",
    "from sklearn.cross_validation import cross_val_score\n",
    "from xgboost import XGBClassifier\n",
    "from sklearn.model_selection import StratifiedKFold\n",
    "import xgboost as xgb\n",
    "\n",
    "print(\"------Imports complete------\")"
   ]
  },
  {
   "cell_type": "markdown",
   "metadata": {},
   "source": [
    "### Load Data"
   ]
  },
  {
   "cell_type": "code",
   "execution_count": 52,
   "metadata": {},
   "outputs": [],
   "source": [
    "data_path = \"/home/matia_alexander/data/home-credit-default-risk/\"\n",
    "application_train = pd.read_csv(data_path + \"application_train.csv\")\n",
    "bureau_balance = pd.read_csv(data_path + \"bureau_balance.csv\")\n",
    "bureau = pd.read_csv(data_path + \"bureau.csv\")\n",
    "credit_card_balance = pd.read_csv(data_path + \"credit_card_balance.csv\")\n",
    "installments_payments = pd.read_csv(data_path + \"installments_payments.csv\")\n",
    "POS_CASH_balance = pd.read_csv(data_path + \"POS_CASH_balance.csv\")\n",
    "previous_application = pd.read_csv(data_path + \"previous_application.csv\")\n",
    "sample_submission = pd.read_csv(data_path + \"sample_submission.csv\")\n",
    "application_test = pd.read_csv(data_path + 'application_test.csv')  \n",
    "#Add flags for origination\n",
    "application_train['Data_Set'] = 0\n",
    "application_train.drop(columns = \"TARGET\", inplace = True)\n",
    "application_test['Data_Set'] = 1"
   ]
  },
  {
   "cell_type": "markdown",
   "metadata": {},
   "source": [
    "### Data Manipulation"
   ]
  },
  {
   "cell_type": "code",
   "execution_count": 3,
   "metadata": {},
   "outputs": [],
   "source": [
    "# Stack test/train datasets\n",
    "application_all = pd.concat([application_train, application_test])\n",
    "\n",
    "#One-hot encode non-numeric fields for use in xgboost\n",
    "non_numeric_cols = []\n",
    "for i in application_all.columns:\n",
    "    if application_all[i].dtype.name == \"object\":\n",
    "        non_numeric_cols.append(i)\n",
    "\n",
    "#Build dataset of only non-numerics\n",
    "application_all_non_numeric = application_all.loc[:,non_numeric_cols]\n",
    "#Remove non-encoded variables from original dataset\n",
    "application_all.drop(columns = non_numeric_cols, inplace = True)\n",
    "#Convert non-numerics into dummies/ one-hot encode\n",
    "application_all_non_numeric_dummies = pd.get_dummies(application_all_non_numeric)\n",
    "#Join encoded dataset back with original\n",
    "application_all = pd.concat([application_all, application_all_non_numeric_dummies], axis = 1)\n",
    "\n",
    "X = application_all.drop(columns = [\"SK_ID_CURR\", \"Data_Set\"])\n",
    "y = application_all[\"Data_Set\"]"
   ]
  },
  {
   "cell_type": "code",
   "execution_count": 4,
   "metadata": {},
   "outputs": [
    {
     "name": "stdout",
     "output_type": "stream",
     "text": [
      "(356255,)\n",
      "(356255, 244)\n"
     ]
    }
   ],
   "source": [
    "print(y.shape)\n",
    "print(X.shape)"
   ]
  },
  {
   "cell_type": "markdown",
   "metadata": {},
   "source": [
    "Take several bootstrap samples of data, train model, and then predict probabilities on train set.  Hopefully this reduces overfit stemming from cases where model has seen a specific case, and thus knows exactly what it will.  Exact precision is obviously undesireable in this case given the potential for unbounded weights."
   ]
  },
  {
   "cell_type": "code",
   "execution_count": 8,
   "metadata": {},
   "outputs": [],
   "source": [
    "all_rows = pd.Series(range(0, X.shape[0]))\n"
   ]
  },
  {
   "cell_type": "code",
   "execution_count": 9,
   "metadata": {},
   "outputs": [],
   "source": [
    "Test_Set = application_all.loc[application_all.Data_Set == 0,:]"
   ]
  },
  {
   "cell_type": "code",
   "execution_count": 11,
   "metadata": {},
   "outputs": [
    {
     "name": "stdout",
     "output_type": "stream",
     "text": [
      "Iteration: 0\n",
      "(106876, 244)\n",
      "(106876,)\n",
      "Iteration: 1\n",
      "(106876, 244)\n",
      "(106876,)\n",
      "Iteration: 2\n",
      "(106876, 244)\n",
      "(106876,)\n",
      "Iteration: 3\n",
      "(106876, 244)\n",
      "(106876,)\n",
      "Iteration: 4\n",
      "(106876, 244)\n",
      "(106876,)\n",
      "Iteration: 5\n",
      "(106876, 244)\n",
      "(106876,)\n",
      "Iteration: 6\n",
      "(106876, 244)\n",
      "(106876,)\n",
      "Iteration: 7\n",
      "(106876, 244)\n",
      "(106876,)\n",
      "Iteration: 8\n",
      "(106876, 244)\n",
      "(106876,)\n",
      "Iteration: 9\n",
      "(106876, 244)\n",
      "(106876,)\n",
      "Iteration: 10\n",
      "(106876, 244)\n",
      "(106876,)\n",
      "Iteration: 12\n",
      "(106876, 244)\n",
      "(106876,)\n",
      "Iteration: 13\n",
      "(106876, 244)\n",
      "(106876,)\n",
      "Iteration: 14\n",
      "(106876, 244)\n",
      "(106876,)\n"
     ]
    }
   ],
   "source": [
    "Pred_List = []\n",
    "\n",
    "for i in range(0,15):\n",
    "    print(\"Iteration: \" + str(i))\n",
    "    X_sample_rows = all_rows.sample(frac = .3)\n",
    "    X_sample = X.iloc[X_sample_rows]\n",
    "    y_sample = y.iloc[X_sample_rows]\n",
    "    print(X_sample.shape)\n",
    "    print(y_sample.shape)\n",
    "\n",
    "    model = XGBClassifier(learning_rate=.02,\n",
    "                        n_estimators=300,\n",
    "                        bootstrap = True,\n",
    "                        min_samples_leaf = 8,\n",
    "                        min_samples_split = 10,\n",
    "                        min_child_weight=1,\n",
    "                        colsample_byree = .6,\n",
    "                        max_features=\"auto\",\n",
    "                        max_depth = 20,\n",
    "                        gamma = 2,\n",
    "                        objective = 'binary:logistic',\n",
    "                        silent = False,\n",
    "                        nthread=4)\n",
    "    model.fit(X_sample,y_sample)\n",
    "    if i == 0:\n",
    "        Pred_Frame = pd.DataFrame( model.predict_proba(Test_Set.drop(columns = [\"SK_ID_CURR\", \"Data_Set\"]))[:,0],\n",
    "            columns = [\"pred_\"+ str(i) ])\n",
    "    else:\n",
    "        tmp_frame = pd.DataFrame( model.predict_proba(Test_Set.drop(columns = [\"SK_ID_CURR\", \"Data_Set\"]))[:,0],\n",
    "            columns = [\"pred_\"+ str(i) ])\n",
    "        \n",
    "        Pred_Frame = pd.concat([Pred_Frame, tmp_frame], axis = 1)\n",
    "\n",
    "Pred_Frame.to_csv(\"/home/matia_alexander/data/home-credit-default-risk/modified/Predictions_Bootstrap.csv\")"
   ]
  },
  {
   "cell_type": "code",
   "execution_count": 42,
   "metadata": {},
   "outputs": [],
   "source": [
    "Pred_Frame = pd.read_csv(\"/home/matia_alexander/data/home-credit-default-risk/modified/Predictions_Bootstrap.csv\")\n",
    "Pred_Frame.drop(columns = [\"Unnamed: 0\"], inplace = True)\n",
    "Pred_Frame = 1 - Pred_Frame\n",
    "Average_Test_Prob = Pred_Frame.mean(axis = 1 )\n",
    "Weight = Average_Test_Prob / (1 - Average_Test_Prob)"
   ]
  },
  {
   "cell_type": "code",
   "execution_count": 43,
   "metadata": {},
   "outputs": [
    {
     "data": {
      "image/png": "[encoded data removed]",
      "text/plain": [
       "<Figure size 720x432 with 1 Axes>"
      ]
     },
     "metadata": {},
     "output_type": "display_data"
    }
   ],
   "source": [
    "import matplotlib.pyplot as plt\n",
    "plt.rcParams['figure.figsize'] = [10, 6]\n",
    "ht, bins = np.histogram(a = Average_Test_Prob,\n",
    "            bins = 100)\n",
    "width = 0.7 * (bins[1] - bins[0])\n",
    "center = (bins[:-1] + bins[1:]) / 2\n",
    "plt.bar(center, ht, width = width)\n",
    "plt.axis([0,1,0,10000])\n",
    "plt.title(\"Observation Prediction Distrbution\")\n",
    "plt.show()"
   ]
  },
  {
   "cell_type": "code",
   "execution_count": 47,
   "metadata": {},
   "outputs": [
    {
     "data": {
      "text/plain": [
       "0.092084681313143"
      ]
     },
     "execution_count": 47,
     "metadata": {},
     "output_type": "execute_result"
    }
   ],
   "source": []
  },
  {
   "cell_type": "code",
   "execution_count": 84,
   "metadata": {},
   "outputs": [
    {
     "data": {
      "image/png": "[encoded data removed]",
      "text/plain": [
       "<Figure size 720x432 with 1 Axes>"
      ]
     },
     "metadata": {},
     "output_type": "display_data"
    }
   ],
   "source": [
    "import matplotlib.pyplot as plt\n",
    "plt.rcParams['figure.figsize'] = [10, 6]\n",
    "ht, bins = np.histogram(a = Weight,\n",
    "            bins = 100)\n",
    "width = 0.7 * (bins[1] - bins[0])\n",
    "center = (bins[:-1] + bins[1:]) / 2\n",
    "plt.bar(center, ht, width = width)\n",
    "plt.axis([0,2,0,15000])\n",
    "plt.title(\"Observation Weight Distrbution\")\n",
    "plt.show()"
   ]
  },
  {
   "cell_type": "code",
   "execution_count": 82,
   "metadata": {},
   "outputs": [],
   "source": [
    "#Check to ensure that every training record has been assigned a weight:\n",
    "len_1 = application_train.shape[0]\n",
    "len_2 = len(Weight)\n",
    "assert(len_1 == len_2)"
   ]
  },
  {
   "cell_type": "code",
   "execution_count": 77,
   "metadata": {},
   "outputs": [
    {
     "data": {
      "text/html": [
       "<div>\n",
       "<style scoped>\n",
       "    .dataframe tbody tr th:only-of-type {\n",
       "        vertical-align: middle;\n",
       "    }\n",
       "\n",
       "    .dataframe tbody tr th {\n",
       "        vertical-align: top;\n",
       "    }\n",
       "\n",
       "    .dataframe thead th {\n",
       "        text-align: right;\n",
       "    }\n",
       "</style>\n",
       "<table border=\"1\" class=\"dataframe\">\n",
       "  <thead>\n",
       "    <tr style=\"text-align: right;\">\n",
       "      <th></th>\n",
       "      <th>SK_ID_CURR</th>\n",
       "      <th>Weights</th>\n",
       "    </tr>\n",
       "  </thead>\n",
       "  <tbody>\n",
       "    <tr>\n",
       "      <th>0</th>\n",
       "      <td>100002</td>\n",
       "      <td>0.083370</td>\n",
       "    </tr>\n",
       "    <tr>\n",
       "      <th>1</th>\n",
       "      <td>100003</td>\n",
       "      <td>0.009126</td>\n",
       "    </tr>\n",
       "    <tr>\n",
       "      <th>2</th>\n",
       "      <td>100004</td>\n",
       "      <td>0.008843</td>\n",
       "    </tr>\n",
       "    <tr>\n",
       "      <th>3</th>\n",
       "      <td>100006</td>\n",
       "      <td>0.172303</td>\n",
       "    </tr>\n",
       "    <tr>\n",
       "      <th>4</th>\n",
       "      <td>100007</td>\n",
       "      <td>0.018923</td>\n",
       "    </tr>\n",
       "  </tbody>\n",
       "</table>\n",
       "</div>"
      ],
      "text/plain": [
       "  SK_ID_CURR   Weights\n",
       "0     100002  0.083370\n",
       "1     100003  0.009126\n",
       "2     100004  0.008843\n",
       "3     100006  0.172303\n",
       "4     100007  0.018923"
      ]
     },
     "execution_count": 77,
     "metadata": {},
     "output_type": "execute_result"
    }
   ],
   "source": [
    "Train_Weights = pd.DataFrame(application_train['SK_ID_CURR'].values, columns = [\"SK_ID_CURR\"])\n",
    "Train_Weights[\"Weights\"] = Weight\n",
    "Train_Weights.to_csv(\"/home/matia_alexander/data/home-credit-default-risk/modified/Train_Weights_V1.csv\")\n",
    "Train_Weights.head()"
   ]
  }
 ],
 "metadata": {
  "kernelspec": {
   "display_name": "Python 3",
   "language": "python",
   "name": "python3"
  },
  "language_info": {
   "codemirror_mode": {
    "name": "ipython",
    "version": 3
   },
   "file_extension": ".py",
   "mimetype": "text/x-python",
   "name": "python",
   "nbconvert_exporter": "python",
   "pygments_lexer": "ipython3",
   "version": "3.5.5"
  }
 },
 "nbformat": 4,
 "nbformat_minor": 2
}
